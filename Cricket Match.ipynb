{
 "cells": [
  {
   "cell_type": "markdown",
   "metadata": {},
   "source": [
    "#### Cricket Match Problem"
   ]
  },
  {
   "cell_type": "code",
   "execution_count": 22,
   "metadata": {
    "collapsed": true
   },
   "outputs": [],
   "source": [
    "import numpy as np\n",
    "import matplotlib.pyplot as plt\n",
    "import pandas as pd"
   ]
  },
  {
   "cell_type": "code",
   "execution_count": 25,
   "metadata": {
    "scrolled": true
   },
   "outputs": [],
   "source": [
    "minNum = -100000\n",
    "totalBalls = 301\n",
    "totalWicket = 10\n",
    "shotToIndex = {1:0, 2:1, 3:2, 4:3, 6:4}\n",
    "shots = [1, 2, 3, 4, 6]\n",
    "pw_min = [0.01, 0.02, 0.03, 0.1, 0.3]\n",
    "pw_max = [0.1, 0.2, 0.3, 0.5, 0.7]\n",
    "pr_min = 0.5\n",
    "pr_max = 0.8\n",
    "\n",
    "def getPr(wicketLeft):\n",
    "    return pr_min + (pr_max - pr_min)*((wicketLeft - 1)/9)\n",
    "\n",
    "def getPw(wicketLeft, shot):\n",
    "    ind = shotToIndex[shot]\n",
    "    return pw_max[ind] + (pw_min[ind] - pw_max[ind])*((wicketLeft - 1)/9)\n",
    "\n",
    "Value = np.zeros((totalBalls + 1, totalWicket + 1))   #121, 11\n",
    "Policy = np.zeros((totalBalls + 1, totalWicket + 1))  #121, 11\n",
    "\n",
    "for ballLeft in range(1, totalBalls+1):\n",
    "    for wicketLeft in range(1, totalWicket + 1):\n",
    "        optimalValue = minNum\n",
    "        optimalShot = -1\n",
    "        for shot in shots:\n",
    "            currValue = 0\n",
    "            #if player lose wicket\n",
    "            pw = getPw(wicketLeft, shot)\n",
    "            currValue += pw*0 + pw*Value[ballLeft - 1, wicketLeft - 1]\n",
    "            \n",
    "            #If Player doesn't lose wicket and shot was successful\n",
    "            pr = getPr(wicketLeft)\n",
    "            currValue += (1 - pw)*(pr * shot + pr* Value[ballLeft - 1, wicketLeft])\n",
    "            \n",
    "            #if player doesn't lose wicket and shot was unsuccessful\n",
    "            currValue += (1 - pw)*((1 - pr)*(0 + Value[ballLeft - 1, wicketLeft]))\n",
    "            \n",
    "            if currValue > optimalValue:\n",
    "                optimalValue = currValue\n",
    "                optimalShot = shot\n",
    "        Policy[ballLeft][wicketLeft] = optimalShot\n",
    "        Value[ballLeft][wicketLeft] = optimalValue\n",
    "        \n",
    "#         print(Value)\n",
    "        \n",
    "np.savetxt(\"policy.txt\", Policy, fmt = \"%i\")\n",
    "np.savetxt(\"value.txt\", Value, fmt = \"%i\")"
   ]
  },
  {
   "cell_type": "code",
   "execution_count": null,
   "metadata": {
    "collapsed": true
   },
   "outputs": [],
   "source": []
  }
 ],
 "metadata": {
  "kernelspec": {
   "display_name": "Python 3",
   "language": "python",
   "name": "python3"
  },
  "language_info": {
   "codemirror_mode": {
    "name": "ipython",
    "version": 3
   },
   "file_extension": ".py",
   "mimetype": "text/x-python",
   "name": "python",
   "nbconvert_exporter": "python",
   "pygments_lexer": "ipython3",
   "version": "3.7.0"
  }
 },
 "nbformat": 4,
 "nbformat_minor": 2
}
