{
 "cells": [
  {
   "cell_type": "markdown",
   "metadata": {},
   "source": [
    "### 1. Value Function of  states for given policy using Bellman Equation\n",
    "\n",
    "   - Reward is a function of state\n",
    "   - P(s --> s') is a function of s,s' and a. $P^{a}_{ss'}$\n",
    "   - We have deterministic policy i.e. Agent will take a fixed action policy(s) with probabililty 1, when agent is in state s.\n",
    "   \n",
    "##### Goal is to observe how value function changes over time."
   ]
  },
  {
   "cell_type": "code",
   "execution_count": null,
   "metadata": {
    "collapsed": true
   },
   "outputs": [],
   "source": [
    "class Environment:\n",
    "    def __init__():\n",
    "        \n",
    "    def setReward(reward):\n",
    "        self.reward = reward\n",
    "        \n",
    "    def setState(grid):\n",
    "        self.grid = grid\n",
    "        \n",
    "    \n",
    "    \n",
    "    \n",
    "        \n",
    "        \n",
    "        "
   ]
  },
  {
   "cell_type": "code",
   "execution_count": null,
   "metadata": {
    "collapsed": true
   },
   "outputs": [],
   "source": []
  },
  {
   "cell_type": "code",
   "execution_count": null,
   "metadata": {
    "collapsed": true
   },
   "outputs": [],
   "source": []
  }
 ],
 "metadata": {
  "kernelspec": {
   "display_name": "Python 3",
   "language": "python",
   "name": "python3"
  },
  "language_info": {
   "codemirror_mode": {
    "name": "ipython",
    "version": 3
   },
   "file_extension": ".py",
   "mimetype": "text/x-python",
   "name": "python",
   "nbconvert_exporter": "python",
   "pygments_lexer": "ipython3",
   "version": "3.6.4"
  }
 },
 "nbformat": 4,
 "nbformat_minor": 2
}
