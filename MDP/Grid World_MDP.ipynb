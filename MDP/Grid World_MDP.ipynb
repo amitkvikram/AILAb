{
 "cells": [
  {
   "cell_type": "markdown",
   "metadata": {},
   "source": [
    "### 1. Value Function of  states for given policy using Bellman Equation\n",
    "\n",
    "   - Reward is a function of state\n",
    "   - Action Space = [left, right, up, down]\n",
    "   - P(s --> s') is a function of s. $P^{a}_{ss'} = P_s$\n",
    "   - We have deterministic policy i.e. Agent will take a fixed action policy(s) with probabililty 1, when agent is in state s.\n",
    "   \n",
    "##### Goal is to observe how value function changes over time."
   ]
  },
  {
   "cell_type": "code",
   "execution_count": 242,
   "metadata": {
    "collapsed": true
   },
   "outputs": [],
   "source": [
    "import numpy as np\n",
    "import matplotlib.pyplot as plt\n",
    "import pandas as pd\n",
    "import seaborn as sns\n",
    "class Environment:\n",
    "    def __init__(self, n, m):\n",
    "        self.rowNum = n\n",
    "        self.colNum = m\n",
    "        self.action = ['l', 'r','u', 'd']\n",
    "        self.actionToIndex = {'l':0, 'r':1, 'u':2, 'd':3}\n",
    "        \n",
    "        #reward for R: S -> relaNumber\n",
    "        self.reward = np.array([[0, 0.45, 1, 0.9]\n",
    "                               ,[0.23, 1.25, 0, 0]\n",
    "                               ,[0, 0.45, 0.75, 0]\n",
    "                               ,[0.85, 1.5, 2.5, 0.85]])\n",
    "        \n",
    "        #Initial Policy for policy iteration  \n",
    "        #r: right, l:left, u:up, d:down\n",
    "        self.policy =  np.array([[\"r\", \"d\", \"d\", \"l\"]\n",
    "                                ,[\"r\", \"d\", \"d\", \"d\"]\n",
    "                                ,[\"d\", \"d\", \"d\", \"d\"]\n",
    "                                ,[\"r\", \"r\", \"l\", \"l\"]])\n",
    "        \n",
    "        #Probabilty P(action) : A x A-> realNumber\n",
    "                                    #left, right, up, down\n",
    "        self.probability = np.array([[0.8, 0, 0.1, 0.1]    #left\n",
    "                                    ,[0, 0.8, 0.1, 0.1]   #right\n",
    "                                    ,[0.1, 0.1 , 0.8, 0]  #up\n",
    "                                    ,[0.1, 0.1, 0, 0.8]])  #down\n",
    "        \n",
    "        #Initial Value Function\n",
    "        self.value = np.zeros((self.rowNum, self.colNum))*1000.0\n",
    "#         self.value = np.random.randint(-100, 100, (self.rowNum, self.colNum)).astype(np.float32)\n",
    "        \n",
    "        #Possible Actions\n",
    "        self.actionToTuple = {\"l\": (0, -1), \"r\": (0, 1), \"u\": (-1, 0), \"d\": (1, 0)}\n",
    "        \n",
    "    def setReward(self, reward):\n",
    "        self.reward = reward\n",
    "        \n",
    "    def setState(self, grid):\n",
    "        self.value = value\n",
    "        \n",
    "    def setPolicy(self, policy):\n",
    "        self.policy = policy\n",
    "        \n",
    "    def setProb(self, prob):\n",
    "        self.prob = prob\n",
    "        \n",
    "    def isValidState(self, state):\n",
    "        return state[0]>-1 and state[1]>-1 and state[0] < self.rowNum and state[1] < self.colNum\n",
    "\n",
    "    def getNextState(self, currState, succAction):\n",
    "        diff = self.actionToTuple[succAction]\n",
    "        return (currState[0] + diff[0], currState[1] + diff[1])\n",
    "    \n",
    "    #s1, s2 are tuple(i, j)\n",
    "    def getProb(self, actionTaken, succAction):\n",
    "        actionTaken = self.actionToIndex[actionTaken]\n",
    "        succAction = self.actionToIndex[succAction]\n",
    "        return self.probability[actionTaken, succAction]\n",
    "        "
   ]
  },
  {
   "cell_type": "code",
   "execution_count": 245,
   "metadata": {},
   "outputs": [],
   "source": [
    "def infinityNorm(mat1, mat2):\n",
    "    return np.max(np.abs((mat1 - mat2).ravel()))\n",
    "\n",
    "def calcValueFunction(env, gamma = 0.99):\n",
    "    maxIter = 4000\n",
    "    iter = 0\n",
    "    error = []\n",
    "    tol = 0.0001\n",
    "    oldValue = env.value.copy()\n",
    "    while(iter < maxIter):\n",
    "        iter+=1\n",
    "        \n",
    "        oldValue = env.value.copy()\n",
    "#         print(oldValue)\n",
    "        for row in range(env.value.shape[0]):\n",
    "            for col in range(env.value.shape[1]):\n",
    "                actionTaken = env.policy[row, col]\n",
    "                expectedValue = 0\n",
    "                for succAction in env.action:\n",
    "                    p = env.getProb(actionTaken, succAction)\n",
    "                    nextState = env.getNextState((row, col), succAction)\n",
    "                    if(env.isValidState(nextState)):\n",
    "                        expectedValue += p*env.reward[row, col] + p* gamma* env.value[nextState]\n",
    "                    \n",
    "                    else:\n",
    "                        expectedValue += p*-1 + p* gamma* env.value[row, col]\n",
    "                env.value[row, col] = expectedValue\n",
    "                \n",
    "        error.append(infinityNorm(oldValue, env.value))\n",
    "        if(error[-1] < tol): \n",
    "            print(\"converges in Iteration: \", iter)\n",
    "            break\n",
    "        \n",
    "    print(\"Value Function\")\n",
    "    print(env.value)\n",
    "    \n",
    "    return error\n",
    "\n"
   ]
  },
  {
   "cell_type": "code",
   "execution_count": 246,
   "metadata": {},
   "outputs": [
    {
     "name": "stdout",
     "output_type": "stream",
     "text": [
      "[['r' 'd' 'd' 'l']\n",
      " ['r' 'd' 'd' 'd']\n",
      " ['d' 'd' 'd' 'd']\n",
      " ['r' 'r' 'l' 'l']]\n",
      "converges in Iteration:  281\n",
      "Value Function\n",
      "[[ 72.3801341   74.15517623  74.26634713  73.3145224 ]\n",
      " [ 73.97261346  75.68099937  75.01836432  73.41735623]\n",
      " [ 74.64836028  76.31373042  77.04949633  75.2177731 ]\n",
      " [ 76.47215033  77.80283193  78.37944809  77.03527774]]\n"
     ]
    },
    {
     "data": {
      "image/png": "[encoded data removed]",
      "text/plain": [
       "<Figure size 432x288 with 1 Axes>"
      ]
     },
     "metadata": {},
     "output_type": "display_data"
    }
   ],
   "source": [
    "env = Environment(4, 4)\n",
    "print(env.policy)\n",
    "error = calcValueFunction(env, 0.98)\n",
    "plt.plot(error)\n",
    "plt.title(\"||v_t - v_t+1||_inf\")\n",
    "plt.xlabel(\"iterations\")\n",
    "plt.show()"
   ]
  },
  {
   "cell_type": "markdown",
   "metadata": {},
   "source": [
    "> **Observation**: ||v_t - v_t+1||_inf is decreasing with iteration"
   ]
  },
  {
   "cell_type": "markdown",
   "metadata": {},
   "source": [
    "## 2. Value Iteration to find optimal Value Function and then Optimal Policy"
   ]
  },
  {
   "cell_type": "code",
   "execution_count": null,
   "metadata": {
    "collapsed": true
   },
   "outputs": [],
   "source": []
  }
 ],
 "metadata": {
  "kernelspec": {
   "display_name": "Python 3",
   "language": "python",
   "name": "python3"
  },
  "language_info": {
   "codemirror_mode": {
    "name": "ipython",
    "version": 3
   },
   "file_extension": ".py",
   "mimetype": "text/x-python",
   "name": "python",
   "nbconvert_exporter": "python",
   "pygments_lexer": "ipython3",
   "version": "3.6.8"
  }
 },
 "nbformat": 4,
 "nbformat_minor": 2
}
