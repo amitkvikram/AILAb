{
 "cells": [
  {
   "cell_type": "markdown",
   "metadata": {},
   "source": [
    "#### Mountain Car Problem"
   ]
  },
  {
   "cell_type": "markdown",
   "metadata": {},
   "source": [
    "##### Members:\n",
    "        1. Amit Vikram Singh(111601001)\n",
    "        2. Kuldeep Singh Bhandari(111601009)\n",
    "        \n",
    "##### Logic:\n",
    "- Discretize position and velocity in 100 discrete  steps. State will be a fucntion of (pos, velocity).\n",
    "- Now run the value iteration. At any time , we have three action [left, neutral, right]. For every time step reward is -1 except in the case agent pos >= 0.6, in this case reward is 0.\n",
    "          "
   ]
  },
  {
   "cell_type": "code",
   "execution_count": 2,
   "metadata": {},
   "outputs": [],
   "source": [
    "import numpy as np\n",
    "import matplotlib.pyplot as plt"
   ]
  },
  {
   "cell_type": "code",
   "execution_count": 3,
   "metadata": {},
   "outputs": [],
   "source": [
    "gridSize = (100, 100)\n",
    "velocity = (-0.07, 0.07)\n",
    "position = (-1.2, 0.6)\n",
    "actionSet = [-1, 0, 1]\n",
    "posStep = (position[1] - position[0])/(gridSize[0] - 1)\n",
    "velStep = (velocity[1] - velocity[0])/(gridSize[1] - 1)\n",
    "\n",
    "#Functio takes current position, current Velocity and claculates new velocity and then using new velocity\n",
    "#... calculates new Position.\n",
    "def updateFunction(oldPos, oldVel, action):\n",
    "    newVel = oldVel + (action * 0.001) + np.cos(3*oldPos)*(-0.0025)\n",
    "    newVel = min(max(newVel, velocity[0]), velocity[1])\n",
    "    \n",
    "    newPos = oldPos + newVel\n",
    "    newPos = min(max(newPos, position[0]), position[1])\n",
    "    \n",
    "    if(newPos<= position[0]):\n",
    "        newVel = 0\n",
    "    \n",
    "    return newPos, newVel\n",
    "\n",
    "def normInfinity(currValue, optimalValue):\n",
    "    maxDiff = 0\n",
    "    for i in range(env.rowNum):\n",
    "        for j in range(env.colNum):\n",
    "            maxDiff = max(maxDiff, abs(currValue[i, j] - optimalValue[i, j]))\n",
    "    return maxDiff\n",
    "\n",
    "  \n",
    "#returns true if agent reaches the goal\n",
    "def reachedGoal(pos):\n",
    "    if pos < 0.6:\n",
    "        return False\n",
    "    return True\n",
    "\n",
    "#take pos, vel and returns corresponding indices in discrete world.\n",
    "def getIndex(pos, vel):\n",
    "    posInd = (pos - position[0])/posStep\n",
    "    velInd = (vel - velocity[0])/velStep\n",
    "    \n",
    "    posInd = np.ceil(posInd)\n",
    "    velInd = np.ceil(velInd)\n",
    "    \n",
    "    return int(posInd), int(velInd) \n",
    "\n",
    "#take indice for position, velocity in discrete world and retrun their corresponding values\n",
    "#... in continuous world.\n",
    "def getState(posInd, velInd):   #row, col\n",
    "    pos = position[0] + posInd*posStep\n",
    "    vel = velocity[0] + velInd*velStep\n",
    "    \n",
    "    return pos, vel"
   ]
  },
  {
   "cell_type": "markdown",
   "metadata": {},
   "source": [
    "### Value Iteration"
   ]
  },
  {
   "cell_type": "code",
   "execution_count": 6,
   "metadata": {},
   "outputs": [],
   "source": [
    "minNum = -1000000\n",
    "gamma = 1\n",
    "def valueIteration(value, policy):\n",
    "    print(\"Value Iteration in progress\")\n",
    "    for iter1 in range(500):\n",
    "        if(iter1%50 == 0): print(\"Iteration: \", iter1)\n",
    "        for posInd in range(gridSize[0]):\n",
    "            for velInd in range(gridSize[1]):\n",
    "                optimalVal = minNum\n",
    "                optimalAction = -1\n",
    "                for action in actionSet:\n",
    "                    currVal = 0\n",
    "                    pos, vel = getState(posInd, velInd)\n",
    "                    newPos, newVel = updateFunction(pos, vel, action)\n",
    "                    newPosInd, newVelInd = getIndex(newPos, newVel)\n",
    "    \n",
    "                    if(reachedGoal(newPos)):\n",
    "                        currVal += 0 + gamma*value[newPosInd, newVelInd]\n",
    "                    else:\n",
    "                        currVal += -1 + gamma*value[newPosInd, newVelInd]\n",
    "\n",
    "                    if(currVal > optimalVal):\n",
    "                        optimalVal = currVal\n",
    "                        optimalAction = action\n",
    "\n",
    "                value[posInd, velInd] = optimalVal\n",
    "                policy[posInd, velInd] = optimalAction\n",
    "    print(\"Value Itertion Finished\")"
   ]
  },
  {
   "cell_type": "markdown",
   "metadata": {},
   "source": [
    "#### Call Value iteration"
   ]
  },
  {
   "cell_type": "code",
   "execution_count": 7,
   "metadata": {
    "scrolled": true
   },
   "outputs": [
    {
     "name": "stdout",
     "output_type": "stream",
     "text": [
      "Value Iteration in progress\n",
      "Iteration:  0\n",
      "Iteration:  50\n",
      "Iteration:  100\n",
      "Iteration:  150\n",
      "Iteration:  200\n",
      "Iteration:  250\n",
      "Iteration:  300\n",
      "Iteration:  350\n",
      "Iteration:  400\n",
      "Iteration:  450\n",
      "Value Itertion Finished\n"
     ]
    }
   ],
   "source": [
    "value = np.zeros(gridSize)\n",
    "policy = np.zeros(gridSize)\n",
    "valueIteration(value, policy)"
   ]
  },
  {
   "cell_type": "markdown",
   "metadata": {},
   "source": [
    "#### Heatmap of value function"
   ]
  },
  {
   "cell_type": "code",
   "execution_count": 8,
   "metadata": {},
   "outputs": [
    {
     "data": {
      "image/png": "[encoded data removed]",
      "text/plain": [
       "<Figure size 432x288 with 1 Axes>"
      ]
     },
     "metadata": {
      "needs_background": "light"
     },
     "output_type": "display_data"
    }
   ],
   "source": [
    "plt.imshow(value, cmap = \"hot\" , interpolation=\"nearest\")\n",
    "plt.show()"
   ]
  },
  {
   "cell_type": "code",
   "execution_count": 9,
   "metadata": {},
   "outputs": [],
   "source": [
    "np.savetxt(\"value.txt\", value, fmt = \"%i\")\n",
    "np.savetxt(\"policy.txt\", policy, fmt = \"%i\")"
   ]
  }
 ],
 "metadata": {
  "kernelspec": {
   "display_name": "Python 3",
   "language": "python",
   "name": "python3"
  },
  "language_info": {
   "codemirror_mode": {
    "name": "ipython",
    "version": 3
   },
   "file_extension": ".py",
   "mimetype": "text/x-python",
   "name": "python",
   "nbconvert_exporter": "python",
   "pygments_lexer": "ipython3",
   "version": "3.7.0"
  }
 },
 "nbformat": 4,
 "nbformat_minor": 2
}
