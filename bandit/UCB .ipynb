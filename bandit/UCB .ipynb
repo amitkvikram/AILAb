{
 "cells": [
  {
   "cell_type": "code",
   "execution_count": null,
   "metadata": {},
   "outputs": [],
   "source": [
    "import numpy as np\n",
    "import matplotlib.pyplot as plt\n",
    "import seaborn as sns\n",
    "import pandas as pd"
   ]
  },
  {
   "cell_type": "code",
   "execution_count": null,
   "metadata": {},
   "outputs": [],
   "source": [
    "class Graph:\n",
    "    def __init__(self, arm = 5):\n",
    "        self.k = arm\n",
    "        self.n_i = [[] for i in range(self.k)]\n",
    "        self.reward_t = []\n",
    "        self.regret = []\n",
    "\n",
    "class Bandit:\n",
    "    def __init__(self, arm = 5):\n",
    "        self.k = arm\n",
    "        self.prob = []\n",
    "        self.s_i = [0.0 for i in range(arm)]\n",
    "        self.n_i = [0.0 for i in range(arm)]\n",
    "        self.graph = Graph(arm)\n",
    "        \n",
    "    def initializeProbability(self):\n",
    "        for arm in range(self.k):\n",
    "            p = np.random.rand()\n",
    "            self.prob.append(p)\n",
    "            \n",
    "    def ucb(self, arm, t):\n",
    "        mu = self.s_i[arm]/self.n_i[arm]\n",
    "        confInterval = np.sqrt((2.0*np.log(t))/self.n_i[arm])\n",
    "        \n",
    "        return mu + confInterval\n",
    "    \n",
    "    def selectArm(self, t):\n",
    "        ucb_t = [self.ucb(arm, t) for arm in range(self.k)]\n",
    "        \n",
    "        return np.argmax(ucb_t)\n",
    "            \n",
    "    def reward(self, arm):\n",
    "        if(np.random.rand() < self.prob[arm]):\n",
    "            return 1.0\n",
    "        return 0.0\n",
    "    \n",
    "    def optimalArm(self):\n",
    "        mu = [self.s_i[i]/self.n_i[i] for i in range(self.k)]\n",
    "        \n",
    "        return np.argmax(mu)\n",
    "    \n",
    "    def getMU(self, arm):\n",
    "        return self.s_i[arm]/self.n_i[arm]\n",
    "    \n",
    "    def plotUCB(self):\n",
    "        pass\n",
    "    \n",
    "    def plotN_div_T(self, arm):\n",
    "        pass\n",
    "    \n",
    "    def updateGraph(self, totReward, selectedArm):\n",
    "        self.graph.reward_t.append(totReward)\n",
    "        for arm in range(self.k):\n",
    "            if(arm == selectedArm):\n",
    "                if(len(self.graph.n_i[arm]) == 0):\n",
    "                    self.graph.n_i[arm].append(1)\n",
    "                else:\n",
    "                    self.graph.n_i[arm].append(self.graph.n_i[arm][-1] + 1)\n",
    "            else:\n",
    "                if(len(self.graph.n_i[arm]) == 0):\n",
    "                    self.graph.n_i[arm].append(1)\n",
    "                else:\n",
    "                    self.graph.n_i[arm].append(self.graph.n_i[arm][-1])\n",
    "                   \n",
    "        self.graph.regret.append(np.max(self.prob) - self.prob[selectedArm])\n",
    "               \n",
    "    \n",
    "#     def plot"
   ]
  },
  {
   "cell_type": "code",
   "execution_count": null,
   "metadata": {},
   "outputs": [],
   "source": [
    "bandit = Bandit(arm = 5)\n",
    "bandit.initializeProbability()\n",
    "print(bandit.prob)\n",
    "plt.bar([\"arm\" + i for i in list(map(str, np.arange(bandit.k).tolist()))], \n",
    "       bandit.prob)\n",
    "plt.ylabel(\"probability\")\n",
    "plt.title(\"Arm Distribution(Bernouli)\")"
   ]
  },
  {
   "cell_type": "code",
   "execution_count": null,
   "metadata": {},
   "outputs": [],
   "source": [
    "##Initial round\n",
    "totReward = 0\n",
    "for arm in range(bandit.k):\n",
    "    reward = bandit.reward(arm)\n",
    "    bandit.s_i[arm] = bandit.s_i[arm] + reward\n",
    "    bandit.n_i[arm] = bandit.n_i[arm] + 1\n",
    "    \n",
    "    totReward += reward\n",
    "    bandit.updateGraph(totReward, arm)\n",
    "\n",
    "#Update\n",
    "rounds = 10000\n",
    "for t in range(1, rounds):\n",
    "    arm = bandit.selectArm(t)\n",
    "    reward = bandit.reward(arm)\n",
    "    bandit.s_i[arm] = bandit.s_i[arm] + reward\n",
    "    bandit.n_i[arm] = bandit.n_i[arm] + 1.0\n",
    "    \n",
    "    totReward = totReward + reward\n",
    "    bandit.updateGraph(totReward, arm)"
   ]
  },
  {
   "cell_type": "code",
   "execution_count": null,
   "metadata": {},
   "outputs": [],
   "source": [
    "optimalArm = bandit.optimalArm()\n",
    "optimalMU = bandit.getMU(optimalArm)\n",
    "\n",
    "print(\"Optimal Arm = \", optimalArm, \" u* = \", optimalMU)"
   ]
  },
  {
   "cell_type": "code",
   "execution_count": null,
   "metadata": {},
   "outputs": [],
   "source": [
    "print(\"Reward collected till {0} rounds from arm_i\".format(rounds), bandit.s_i)\n",
    "print(\"No of times arm_i was pulled in {0} rounds\".format(rounds), bandit.n_i)"
   ]
  },
  {
   "cell_type": "markdown",
   "metadata": {},
   "source": [
    "### Plot1: \n",
    "##### (a) plot of N_i/t vs t i.e fraction of time arm i was selected in interval 1 to t"
   ]
  },
  {
   "cell_type": "code",
   "execution_count": null,
   "metadata": {},
   "outputs": [],
   "source": [
    "fig = plt.figure(figsize=(10, 10))\n",
    "ax1 = fig.add_subplot(111, ylabel = \"N_arm/t\", xlabel = \"t\", title = \"N_t/t vs t\")\n",
    "for arm in range(bandit.k):\n",
    "    ax1.plot([n/t for n in bandit.graph.n_i[arm] for t in range(1, rounds+1)])"
   ]
  },
  {
   "cell_type": "markdown",
   "metadata": {},
   "source": [
    "### Plot2: \n",
    "##### (a) Plot of Reward(t) vs t\n",
    "##### (b) Plot of Reward(t)/t vs t"
   ]
  },
  {
   "cell_type": "code",
   "execution_count": null,
   "metadata": {},
   "outputs": [],
   "source": []
  },
  {
   "cell_type": "markdown",
   "metadata": {},
   "source": [
    "### Plot3: \n",
    "##### (a) Regret(t) vs t \n",
    "##### (b) Regret(t)/t vs t"
   ]
  },
  {
   "cell_type": "code",
   "execution_count": null,
   "metadata": {},
   "outputs": [],
   "source": []
  },
  {
   "cell_type": "code",
   "execution_count": null,
   "metadata": {},
   "outputs": [],
   "source": []
  }
 ],
 "metadata": {
  "kernelspec": {
   "display_name": "Python 3",
   "language": "python",
   "name": "python3"
  },
  "language_info": {
   "codemirror_mode": {
    "name": "ipython",
    "version": 3
   },
   "file_extension": ".py",
   "mimetype": "text/x-python",
   "name": "python",
   "nbconvert_exporter": "python",
   "pygments_lexer": "ipython3",
   "version": "3.7.0"
  }
 },
 "nbformat": 4,
 "nbformat_minor": 2
}
