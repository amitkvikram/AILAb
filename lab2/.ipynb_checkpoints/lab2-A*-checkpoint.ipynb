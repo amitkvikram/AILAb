{
 "cells": [
  {
   "cell_type": "code",
   "execution_count": 1,
   "metadata": {
    "collapsed": true
   },
   "outputs": [],
   "source": [
    "import numpy as np\n",
    "import pickle\n",
    "import os\n",
    "import pandas as pd"
   ]
  },
  {
   "cell_type": "code",
   "execution_count": 2,
   "metadata": {},
   "outputs": [
    {
     "data": {
      "text/plain": [
       "['time',\n",
       " 'lab2.py',\n",
       " '.~lock.traffic_details.csv#',\n",
       " 'lab2.pdf',\n",
       " '.ipynb_checkpoints',\n",
       " 'vehicle',\n",
       " 'traffic_details.csv',\n",
       " 'road',\n",
       " 'lab2-A*.ipynb']"
      ]
     },
     "execution_count": 2,
     "metadata": {},
     "output_type": "execute_result"
    }
   ],
   "source": [
    "os.listdir()"
   ]
  },
  {
   "cell_type": "code",
   "execution_count": 3,
   "metadata": {},
   "outputs": [
    {
     "data": {
      "text/plain": [
       "(100, 1)"
      ]
     },
     "metadata": {},
     "output_type": "display_data"
    },
    {
     "name": "stdout",
     "output_type": "stream",
     "text": [
      "time = [[ 1.04966149]\n",
      " [ 2.30189821]\n",
      " [ 2.64456047]]\n"
     ]
    }
   ],
   "source": [
    "time = np.array(np.load('time', encoding = 'latin1'))\n",
    "display(time.shape)\n",
    "print(\"time =\",time[0:3,:])"
   ]
  },
  {
   "cell_type": "code",
   "execution_count": 4,
   "metadata": {},
   "outputs": [
    {
     "data": {
      "text/plain": [
       "(100, 5)"
      ]
     },
     "metadata": {},
     "output_type": "display_data"
    },
    {
     "name": "stdout",
     "output_type": "stream",
     "text": [
      "vehicle =  [[1 0 5 3 7]\n",
      " [7 8 7 8 7]\n",
      " [3 7 0 1 9]]\n"
     ]
    }
   ],
   "source": [
    "vehicle = np.array(np.load('vehicle'))\n",
    "display(vehicle.shape)\n",
    "print(\"vehicle = \",vehicle[0:3,:])"
   ]
  },
  {
   "cell_type": "code",
   "execution_count": 5,
   "metadata": {},
   "outputs": [
    {
     "name": "stdout",
     "output_type": "stream",
     "text": [
      "(10, 10)\n",
      "road =  [[0 3 6 0 0 8 0 0 0 0]\n",
      " [8 0 0 0 0 0 0 0 9 2]\n",
      " [0 7 0 0 0 0 8 0 0 0]\n",
      " [0 0 0 0 0 0 0 4 7 0]\n",
      " [0 9 0 0 0 0 3 0 0 0]\n",
      " [5 0 2 9 0 0 0 0 0 0]\n",
      " [7 2 0 0 6 0 0 0 0 0]\n",
      " [6 0 0 0 0 9 0 0 5 0]\n",
      " [0 3 2 0 0 0 0 1 0 0]\n",
      " [3 0 0 0 0 0 0 5 0 0]]\n"
     ]
    }
   ],
   "source": [
    "road = np.array(np.load('road'))\n",
    "print(road.shape)\n",
    "print( \"road = \",road)"
   ]
  },
  {
   "cell_type": "code",
   "execution_count": 29,
   "metadata": {},
   "outputs": [],
   "source": [
    "class mainListItem:\n",
    "    def __init__(self, vehicle_no, start_time, source, departure):\n",
    "        self.vehicle_no = vehicle_no\n",
    "        self.start_time =start_time\n",
    "        self.source = source\n",
    "        self.destination = departure\n",
    "    def printObject(self):\n",
    "        print(self.vehicle_no, self.start_time, self.source, self.destination);"
   ]
  },
  {
   "cell_type": "code",
   "execution_count": 14,
   "metadata": {},
   "outputs": [
    {
     "data": {
      "text/plain": [
       "1.0496614869703016"
      ]
     },
     "execution_count": 14,
     "metadata": {},
     "output_type": "execute_result"
    }
   ],
   "source": [
    "time[0, 0]"
   ]
  },
  {
   "cell_type": "code",
   "execution_count": 33,
   "metadata": {},
   "outputs": [],
   "source": [
    "mainList = []\n",
    "for i in range(0, time.shape[0]):\n",
    "    src = vehicle[i,0]\n",
    "    dest = vehicle[i,1]\n",
    "    mainList.append(mainListItem(i, time[i, 0], src, dest))"
   ]
  },
  {
   "cell_type": "code",
   "execution_count": 36,
   "metadata": {},
   "outputs": [],
   "source": [
    "mainList.sort(key = lambda x:x.start_time, reverse = False)"
   ]
  },
  {
   "cell_type": "code",
   "execution_count": null,
   "metadata": {
    "collapsed": true
   },
   "outputs": [],
   "source": [
    "class RoadItem:\n",
    "    def __init__(self, vehicle_no, arrival_time, departure_time):\n",
    "        self.vehicle_no = vehicle_no\n",
    "        self.arrival_time = arrival_time\n",
    "        self.departure_time = departure_time"
   ]
  },
  {
   "cell_type": "code",
   "execution_count": null,
   "metadata": {},
   "outputs": [],
   "source": [
    "roadList = [[]]\n",
    "roadList.append(road[0,:].tolist)\n",
    "roadList[0]"
   ]
  },
  {
   "cell_type": "code",
   "execution_count": null,
   "metadata": {},
   "outputs": [],
   "source": [
    "print(np.array(road))"
   ]
  },
  {
   "cell_type": "code",
   "execution_count": null,
   "metadata": {},
   "outputs": [],
   "source": [
    "np.array(pd.DataFrame(road).sort_values(by=0))"
   ]
  },
  {
   "cell_type": "code",
   "execution_count": null,
   "metadata": {},
   "outputs": [],
   "source": [
    "road.shape"
   ]
  },
  {
   "cell_type": "code",
   "execution_count": null,
   "metadata": {
    "collapsed": true
   },
   "outputs": [],
   "source": []
  }
 ],
 "metadata": {
  "kernelspec": {
   "display_name": "Python 3",
   "language": "python",
   "name": "python3"
  },
  "language_info": {
   "codemirror_mode": {
    "name": "ipython",
    "version": 3
   },
   "file_extension": ".py",
   "mimetype": "text/x-python",
   "name": "python",
   "nbconvert_exporter": "python",
   "pygments_lexer": "ipython3",
   "version": "3.6.2"
  }
 },
 "nbformat": 4,
 "nbformat_minor": 2
}
