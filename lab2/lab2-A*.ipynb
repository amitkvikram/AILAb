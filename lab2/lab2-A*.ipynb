{
 "cells": [
  {
   "cell_type": "code",
   "execution_count": 20,
   "metadata": {
    "collapsed": true
   },
   "outputs": [],
   "source": [
    "import numpy as np\n",
    "import pickle\n",
    "import os\n",
    "import pandas as pd"
   ]
  },
  {
   "cell_type": "code",
   "execution_count": 21,
   "metadata": {},
   "outputs": [
    {
     "data": {
      "text/plain": [
       "['time',\n",
       " 'lab2.py',\n",
       " '.~lock.traffic_details.csv#',\n",
       " 'lab2.pdf',\n",
       " '.ipynb_checkpoints',\n",
       " 'vehicle',\n",
       " 'traffic_details.csv',\n",
       " 'road',\n",
       " 'lab2-A*.ipynb']"
      ]
     },
     "execution_count": 21,
     "metadata": {},
     "output_type": "execute_result"
    }
   ],
   "source": [
    "os.listdir()"
   ]
  },
  {
   "cell_type": "code",
   "execution_count": 22,
   "metadata": {},
   "outputs": [
    {
     "data": {
      "text/plain": [
       "(100, 1)"
      ]
     },
     "metadata": {},
     "output_type": "display_data"
    },
    {
     "name": "stdout",
     "output_type": "stream",
     "text": [
      "time = [[ 0.01749436]\n",
      " [ 0.03836497]\n",
      " [ 0.04407601]]\n"
     ]
    }
   ],
   "source": [
    "time = np.array(np.load('time', encoding = 'latin1')).astype(np.float)/60\n",
    "display(time.shape)\n",
    "print(\"time =\",time[0:3,:])"
   ]
  },
  {
   "cell_type": "code",
   "execution_count": 23,
   "metadata": {},
   "outputs": [
    {
     "data": {
      "text/plain": [
       "(100, 5)"
      ]
     },
     "metadata": {},
     "output_type": "display_data"
    },
    {
     "name": "stdout",
     "output_type": "stream",
     "text": [
      "vehicle =  [[1 0 5 3 7]\n",
      " [7 8 7 8 7]\n",
      " [3 7 0 1 9]]\n"
     ]
    }
   ],
   "source": [
    "vehicle = np.array(np.load('vehicle'))\n",
    "display(vehicle.shape)\n",
    "print(\"vehicle = \",vehicle[0:3,:])"
   ]
  },
  {
   "cell_type": "code",
   "execution_count": 24,
   "metadata": {},
   "outputs": [
    {
     "name": "stdout",
     "output_type": "stream",
     "text": [
      "(10, 10)\n",
      "road =  [[ 0.  3.  6.  0.  0.  8.  0.  0.  0.  0.]\n",
      " [ 8.  0.  0.  0.  0.  0.  0.  0.  9.  2.]\n",
      " [ 0.  7.  0.  0.  0.  0.  8.  0.  0.  0.]\n",
      " [ 0.  0.  0.  0.  0.  0.  0.  4.  7.  0.]\n",
      " [ 0.  9.  0.  0.  0.  0.  3.  0.  0.  0.]\n",
      " [ 5.  0.  2.  9.  0.  0.  0.  0.  0.  0.]\n",
      " [ 7.  2.  0.  0.  6.  0.  0.  0.  0.  0.]\n",
      " [ 6.  0.  0.  0.  0.  9.  0.  0.  5.  0.]\n",
      " [ 0.  3.  2.  0.  0.  0.  0.  1.  0.  0.]\n",
      " [ 3.  0.  0.  0.  0.  0.  0.  5.  0.  0.]]\n"
     ]
    }
   ],
   "source": [
    "road = np.array(np.load('road')).astype(np.float)\n",
    "print(road.shape)\n",
    "print( \"road = \",road)"
   ]
  },
  {
   "cell_type": "code",
   "execution_count": 25,
   "metadata": {
    "collapsed": true
   },
   "outputs": [],
   "source": [
    "def calcSpeed(x):\n",
    "    return np.exp(.5*x)/(1 + np.exp(0.5*x)) + 15/(1 + np.exp(0.5*x))"
   ]
  },
  {
   "cell_type": "code",
   "execution_count": 26,
   "metadata": {
    "collapsed": true
   },
   "outputs": [],
   "source": [
    "class mainListItem:\n",
    "    def __init__(self, vehicle_no, start_time, source, departure):\n",
    "        self.vehicle_no = vehicle_no\n",
    "        self.start_time =start_time\n",
    "        self.source = source\n",
    "        self.destination = departure\n",
    "    def printObject(self):\n",
    "        print(self.vehicle_no, self.start_time, self.source, self.destination);"
   ]
  },
  {
   "cell_type": "code",
   "execution_count": 27,
   "metadata": {},
   "outputs": [
    {
     "data": {
      "text/plain": [
       "0.017494358116171692"
      ]
     },
     "execution_count": 27,
     "metadata": {},
     "output_type": "execute_result"
    }
   ],
   "source": [
    "time[0, 0]"
   ]
  },
  {
   "cell_type": "code",
   "execution_count": 28,
   "metadata": {
    "collapsed": true
   },
   "outputs": [],
   "source": [
    "mainList = []\n",
    "for i in range(0, time.shape[0]):\n",
    "    src = vehicle[i,0]\n",
    "    dest = vehicle[i,1]\n",
    "    mainList.append(mainListItem(i, time[i, 0], src, dest))"
   ]
  },
  {
   "cell_type": "code",
   "execution_count": 29,
   "metadata": {
    "collapsed": true
   },
   "outputs": [],
   "source": [
    "mainList.sort(key = lambda x:x.start_time, reverse = False)"
   ]
  },
  {
   "cell_type": "code",
   "execution_count": 30,
   "metadata": {
    "collapsed": true
   },
   "outputs": [],
   "source": [
    "class RoadItem:\n",
    "    def __init__(self, vehicle_no, arrival_time, departure_time):\n",
    "        self.vehicle_no = vehicle_no\n",
    "        self.arrival_time = arrival_time\n",
    "        self.departure_time = departure_time\n",
    "    def printObject(self):\n",
    "        print(self.vehicle_no, self.arrival_time, self.departure_time)"
   ]
  },
  {
   "cell_type": "code",
   "execution_count": 31,
   "metadata": {},
   "outputs": [
    {
     "name": "stdout",
     "output_type": "stream",
     "text": [
      "10 10 0\n"
     ]
    }
   ],
   "source": [
    "import sys\n",
    "INT_MAX = sys.maxsize\n",
    "roadList = [[[] for j in range(10)] for k in range(10)]\n",
    "# roadList.append(road[0,:].tolist)\n",
    "# roadList[0]\n",
    "print(len(roadList), len(roadList[0]), len(roadList[0][0]))"
   ]
  },
  {
   "cell_type": "code",
   "execution_count": 32,
   "metadata": {},
   "outputs": [
    {
     "data": {
      "text/plain": [
       "0.017494358116171692"
      ]
     },
     "execution_count": 32,
     "metadata": {},
     "output_type": "execute_result"
    }
   ],
   "source": [
    "min(mainList, key = lambda x:x.start_time).start_time"
   ]
  },
  {
   "cell_type": "code",
   "execution_count": 33,
   "metadata": {},
   "outputs": [
    {
     "name": "stdout",
     "output_type": "stream",
     "text": [
      "[[ 0.  3.  6.  0.  0.  8.  0.  0.  0.  0.]\n",
      " [ 8.  0.  0.  0.  0.  0.  0.  0.  9.  2.]\n",
      " [ 0.  7.  0.  0.  0.  0.  8.  0.  0.  0.]\n",
      " [ 0.  0.  0.  0.  0.  0.  0.  4.  7.  0.]\n",
      " [ 0.  9.  0.  0.  0.  0.  3.  0.  0.  0.]\n",
      " [ 5.  0.  2.  9.  0.  0.  0.  0.  0.  0.]\n",
      " [ 7.  2.  0.  0.  6.  0.  0.  0.  0.  0.]\n",
      " [ 6.  0.  0.  0.  0.  9.  0.  0.  5.  0.]\n",
      " [ 0.  3.  2.  0.  0.  0.  0.  1.  0.  0.]\n",
      " [ 3.  0.  0.  0.  0.  0.  0.  5.  0.  0.]]\n"
     ]
    }
   ],
   "source": [
    "print(np.array(road))"
   ]
  },
  {
   "cell_type": "code",
   "execution_count": 34,
   "metadata": {},
   "outputs": [
    {
     "data": {
      "text/plain": [
       "(100, 5)"
      ]
     },
     "execution_count": 34,
     "metadata": {},
     "output_type": "execute_result"
    }
   ],
   "source": [
    "output = np.zeros(vehicle.shape)\n",
    "output.shape"
   ]
  },
  {
   "cell_type": "code",
   "execution_count": 35,
   "metadata": {},
   "outputs": [],
   "source": [
    "def timeTaknOnCurrRoad(vehicle_no, destination, length, currRoadCarList, start_time):\n",
    "    timeTaken = 0;\n",
    "    carAhead = 0;\n",
    "    sz = len(currRoadCarList)\n",
    "    mainList.sort(key = lambda x:x.start_time, reverse = True)\n",
    "    tot = 0\n",
    "    for i in range(len(currRoadCarList)):\n",
    "        if(vehicle_no == 0):\n",
    "            print(\"DepartureTime = \", currRoadCarList[sz - 1].departure_time)\n",
    "        if(start_time < currRoadCarList[sz - 1].departure_time):\n",
    "            tot = tot + 1\n",
    "            sz-=1\n",
    "        else:\n",
    "            break;\n",
    "    ind = 0\n",
    "    last_time = start_time\n",
    "    if(vehicle_no == 0):\n",
    "        print(\"lenCurrRoad = \",len(currRoadCarList), \"tot = \", tot, \"length = \", length, \"Speed =\",calcSpeed(0))\n",
    "    while(tot>0 and length > 0):\n",
    "        currTravel = calcSpeed(tot) * (currRoadCarList[ind].departure_time - last_time)\n",
    "        if(currTravel >= length):\n",
    "            if(currObj.vehicle_no == 0):\n",
    "                print(\"decreasing1\", tot, length, calcSpeed(tot))\n",
    "            length = length - currTravel\n",
    "            timeTaken = timeTaken + currRoadCarList[ind].departure_time - last_time\n",
    "            last_time = currRoadCarList[ind].departure_time\n",
    "        else:\n",
    "            if(currObj.vehicle_no == 0):\n",
    "                print(\"decreasing2\", tot, length)\n",
    "            length = 0\n",
    "            timeTaken = timeTaken + (length/calcSpeed(tot))\n",
    "        if(currObj.vehicle_no == 0):\n",
    "            print(\"decreasing\", tot, len)\n",
    "        tot-=1;\n",
    "        ind+=1;\n",
    "    if(length>0.0):\n",
    "        if(vehicle_no == 0):\n",
    "            print(\"Lenght not zero\", length)\n",
    "        timeTaken += length/calcSpeed(0)\n",
    "    return timeTaken"
   ]
  },
  {
   "cell_type": "code",
   "execution_count": 36,
   "metadata": {},
   "outputs": [
    {
     "name": "stdout",
     "output_type": "stream",
     "text": [
      "CurrObj = \n",
      "0 0.0174943581162 1 0\n",
      "lenCurrRoad =  0 tot =  0 length =  8.0 Speed = 8.0\n",
      "Lenght not zero 8.0\n",
      "timeTaken =  1.0\n",
      "CurrObj = \n",
      "0 1.01749435812 0 5\n",
      "DepartureTime =  1.01645490884\n",
      "lenCurrRoad =  12 tot =  0 length =  8.0 Speed = 8.0\n",
      "Lenght not zero 8.0\n",
      "timeTaken =  1.0\n",
      "CurrObj = \n",
      "0 2.01749435812 5 3\n",
      "DepartureTime =  2.55932086536\n",
      "DepartureTime =  1.35214020749\n",
      "lenCurrRoad =  13 tot =  1 length =  9.0 Speed = 8.0\n",
      "decreasing2 1 9.0\n",
      "decreasing 1 <built-in function len>\n",
      "timeTaken =  0.0\n",
      "CurrObj = \n",
      "0 2.01749435812 3 7\n",
      "DepartureTime =  1.88330921794\n",
      "lenCurrRoad =  9 tot =  0 length =  4.0 Speed = 8.0\n",
      "Lenght not zero 4.0\n",
      "timeTaken =  0.5\n"
     ]
    }
   ],
   "source": [
    "while len(mainList)!=0:\n",
    "    mainList.sort(key = lambda x:x.start_time, reverse = True)\n",
    "#     print(mainList)\n",
    "    currObj = mainList.pop()\n",
    "    if(currObj.vehicle_no == 0):\n",
    "        print(\"CurrObj = \")\n",
    "        currObj.printObject()\n",
    "    if output[currObj.vehicle_no][0] == 4:\n",
    "        continue\n",
    "    currRoadCarList = roadList[currObj.source][currObj.destination]     #Type: RoadItem\n",
    "    timeTaken = timeTaknOnCurrRoad(currObj.vehicle_no,\n",
    "                                   currObj.destination, \n",
    "                                   road[currObj.source, currObj.destination], \n",
    "                                   currRoadCarList,\n",
    "                                  currObj.start_time)\n",
    "    if(currObj.vehicle_no == 0):\n",
    "            print(\"timeTaken = \", timeTaken)\n",
    "    roadList[currObj.source][currObj.destination].append(RoadItem(currObj.vehicle_no,\n",
    "                                                                  currObj.start_time, \n",
    "                                                                  currObj.start_time + timeTaken))\n",
    "    output[currObj.vehicle_no][0] = output[currObj.vehicle_no][0].astype(np.int)+1\n",
    "    ind1 = output[currObj.vehicle_no][0].astype(np.int)\n",
    "#     print(ind1)\n",
    "    output[currObj.vehicle_no][ind1] = currObj.start_time + timeTaken\n",
    "#     print(timeTaken, \"startTime = \", currObj.start_time)\n",
    "    if output[currObj.vehicle_no][0] != 4:\n",
    "        st = currObj.start_time + timeTaken,\n",
    "#         print(\"appending\", st)\n",
    "        mainList.append(mainListItem(currObj.vehicle_no,\n",
    "                                st[0],\n",
    "                                currObj.destination,\n",
    "                                vehicle[currObj.vehicle_no][output[currObj.vehicle_no][0].astype(np.int) + 1]))\n",
    "#     mainListItem(currObj.vehicle_no, \n",
    "# currObj.start_time,\n",
    "# currObj.source,\n",
    "# currObj.destination)"
   ]
  },
  {
   "cell_type": "code",
   "execution_count": 37,
   "metadata": {},
   "outputs": [
    {
     "name": "stdout",
     "output_type": "stream",
     "text": [
      "[[ 4.          1.01749436  2.01749436  2.01749436  2.51749436]\n",
      " [ 4.          0.66336497  0.78836497  1.41336497  1.41336497]\n",
      " [ 4.          0.54407601  0.54407601  0.91907601  0.91907601]\n",
      " [ 4.          0.92046561  1.92046561  1.92046561  2.92046561]\n",
      " [ 4.          0.1845514   0.9345514   1.3095514   1.3095514 ]\n",
      " [ 4.          0.44651686  1.19651686  1.19651686  1.44651686]\n",
      " [ 4.          0.07819658  0.07819658  0.20319658  0.20319658]\n",
      " [ 4.          0.34285789  0.96785789  2.09285789  3.21785789]\n",
      " [ 4.          0.98469408  0.98469408  2.10969408  2.23469408]\n",
      " [ 4.          0.35984826  1.48484826  1.60984826  1.60984826]\n",
      " [ 4.          0.74311277  0.74311277  1.86811277  2.11811277]\n",
      " [ 4.          1.24884028  1.24884028  2.12384028  2.12384028]\n",
      " [ 4.          1.2505523   1.2505523   1.3755523   1.3755523 ]\n",
      " [ 4.          0.13035967  0.50535967  0.75535967  1.38035967]\n",
      " [ 4.          0.13086729  0.13086729  0.75586729  0.75586729]\n",
      " [ 4.          0.14590514  0.14590514  0.89590514  1.77090514]\n",
      " [ 4.          0.15300025  0.15300025  1.02800025  1.02800025]\n",
      " [ 4.          0.7820651   0.7820651   0.7820651   1.5320651 ]\n",
      " [ 4.          1.28618486  1.28618486  1.28618486  1.53618486]\n",
      " [ 4.          1.16830632  2.29330632  2.79330632  2.79330632]\n",
      " [ 4.          0.17084273  0.17084273  0.17084273  0.54584273]\n",
      " [ 4.          1.18492889  1.18492889  2.18492889  2.18492889]\n",
      " [ 4.          1.26473319  2.26473319  3.38973319  3.88973319]\n",
      " [ 4.          1.40199489  2.02699489  2.02699489  2.02699489]\n",
      " [ 4.          0.67301609  0.67301609  1.54801609  1.54801609]\n",
      " [ 4.          0.3166294   1.0666294   1.0666294   2.1916294 ]\n",
      " [ 4.          0.34214116  0.59214116  0.59214116  0.59214116]\n",
      " [ 4.          1.35214021  1.35214021  1.35214021  1.35214021]\n",
      " [ 4.          1.47936133  1.47936133  1.47936133  1.47936133]\n",
      " [ 4.          0.36246163  0.36246163  0.36246163  0.48746163]\n",
      " [ 4.          0.37013384  0.37013384  0.62013384  0.62013384]\n",
      " [ 4.          1.37598589  1.37598589  1.37598589  1.37598589]\n",
      " [ 4.          0.63417134  1.63417134  1.63417134  1.63417134]\n",
      " [ 4.          0.39145491  0.39145491  1.01645491  1.01645491]\n",
      " [ 4.          0.44928569  1.32428569  1.32428569  1.44928569]\n",
      " [ 4.          0.45870644  1.20870644  1.20870644  2.20870644]\n",
      " [ 4.          1.0859523   2.2109523   2.2109523   2.2109523 ]\n",
      " [ 4.          0.49508624  1.62008624  2.12008624  2.87008624]\n",
      " [ 4.          0.53028364  0.53028364  0.53028364  1.65528364]\n",
      " [ 4.          0.90890884  0.90890884  0.90890884  1.15890884]\n",
      " [ 4.          0.54961896  0.54961896  1.42461896  2.17461896]\n",
      " [ 4.          1.55637845  2.43137845  2.43137845  2.43137845]\n",
      " [ 4.          1.58581517  1.83581517  1.83581517  2.71081517]\n",
      " [ 4.          0.59504879  0.59504879  1.09504879  1.09504879]\n",
      " [ 4.          0.65886128  0.90886128  0.90886128  1.15886128]\n",
      " [ 4.          1.05225305  1.80225305  2.80225305  3.05225305]\n",
      " [ 4.          1.69169476  1.94169476  2.19169476  2.56669476]\n",
      " [ 4.          0.75830922  0.75830922  1.88330922  1.88330922]\n",
      " [ 4.          0.76068272  0.76068272  1.88568272  2.13568272]\n",
      " [ 4.          0.76840647  1.01840647  1.01840647  1.26840647]\n",
      " [ 4.          1.1687654   1.1687654   1.1687654   1.4187654 ]\n",
      " [ 4.          1.67141142  2.04641142  2.29641142  2.92141142]\n",
      " [ 4.          1.18346806  1.18346806  1.18346806  2.30846806]\n",
      " [ 4.          0.82269119  0.82269119  1.07269119  1.07269119]\n",
      " [ 4.          1.23561965  1.23561965  1.23561965  1.48561965]\n",
      " [ 4.          1.86915449  1.86915449  2.24415449  2.99415449]\n",
      " [ 4.          0.88096751  0.88096751  0.88096751  1.88096751]\n",
      " [ 4.          0.89616174  1.14616174  1.77116174  2.52116174]\n",
      " [ 4.          0.96649615  0.96649615  0.96649615  1.46649615]\n",
      " [ 4.          1.37261274  1.62261274  1.62261274  1.74761274]\n",
      " [ 4.          1.15190303  1.90190303  2.27690303  2.27690303]\n",
      " [ 4.          2.03875024  2.28875024  3.28875024  3.28875024]\n",
      " [ 4.          1.43763672  2.43763672  2.43763672  3.31263672]\n",
      " [ 4.          1.06364981  1.06364981  1.43864981  2.56364981]\n",
      " [ 4.          1.07000494  1.07000494  1.57000494  1.57000494]\n",
      " [ 4.          1.10182434  2.22682434  2.47682434  2.47682434]\n",
      " [ 4.          1.75273909  1.75273909  2.62773909  3.75273909]\n",
      " [ 4.          1.13172588  2.25672588  2.50672588  2.50672588]\n",
      " [ 4.          2.26722084  2.51722084  2.89222084  3.26722084]\n",
      " [ 4.          1.26983651  2.01983651  3.01983651  3.26983651]\n",
      " [ 4.          1.39910946  2.39910946  3.14910946  3.14910946]\n",
      " [ 4.          1.15456357  1.15456357  1.15456357  1.15456357]\n",
      " [ 4.          1.2025284   1.2025284   1.5775284   1.5775284 ]\n",
      " [ 4.          1.5908366   1.5908366   2.5908366   2.5908366 ]\n",
      " [ 4.          1.23023189  2.35523189  2.35523189  2.35523189]\n",
      " [ 4.          1.60884297  2.73384297  2.98384297  3.85884297]\n",
      " [ 4.          1.24106459  1.24106459  1.24106459  1.24106459]\n",
      " [ 4.          2.40732347  3.28232347  3.65732347  3.65732347]\n",
      " [ 4.          1.31241675  1.31241675  1.93741675  1.93741675]\n",
      " [ 4.          2.44072712  2.56572712  3.31572712  4.31572712]\n",
      " [ 4.          2.33590856  2.58590856  2.58590856  3.33590856]\n",
      " [ 4.          2.08862868  2.96362868  3.21362868  3.58862868]\n",
      " [ 4.          1.74834626  2.49834626  3.49834626  3.74834626]\n",
      " [ 4.          2.02814215  2.02814215  2.40314215  2.40314215]\n",
      " [ 4.          1.40765748  2.28265748  2.28265748  2.65765748]\n",
      " [ 4.          1.43321758  1.80821758  2.80821758  3.55821758]\n",
      " [ 4.          2.55932087  2.55932087  3.18432087  3.30932087]\n",
      " [ 4.          1.68605888  2.31105888  2.31105888  3.31105888]\n",
      " [ 4.          1.45303224  1.45303224  1.82803224  1.82803224]\n",
      " [ 4.          2.09922279  2.47422279  2.47422279  2.47422279]\n",
      " [ 4.          1.47440204  2.22440204  2.22440204  2.22440204]\n",
      " [ 4.          2.52238195  3.64738195  4.52238195  4.77238195]\n",
      " [ 4.          2.54180196  3.54180196  4.16680196  4.91680196]\n",
      " [ 4.          1.80087027  1.80087027  1.80087027  1.80087027]\n",
      " [ 4.          2.43532488  2.43532488  2.43532488  2.68532488]\n",
      " [ 4.          1.56480525  2.68980525  2.68980525  2.68980525]\n",
      " [ 4.          2.70328848  3.70328848  4.07828848  5.07828848]\n",
      " [ 4.          1.57987735  1.57987735  2.32987735  2.32987735]\n",
      " [ 4.          1.58604241  1.58604241  1.83604241  1.83604241]\n",
      " [ 4.          2.76769554  2.89269554  4.01769554  4.26769554]]\n"
     ]
    }
   ],
   "source": [
    "print(output)"
   ]
  },
  {
   "cell_type": "code",
   "execution_count": 38,
   "metadata": {},
   "outputs": [
    {
     "ename": "IndexError",
     "evalue": "list index out of range",
     "output_type": "error",
     "traceback": [
      "\u001b[0;31m---------------------------------------------------------------------------\u001b[0m",
      "\u001b[0;31mIndexError\u001b[0m                                Traceback (most recent call last)",
      "\u001b[0;32m<ipython-input-38-7d2dafd3f40e>\u001b[0m in \u001b[0;36m<module>\u001b[0;34m()\u001b[0m\n\u001b[0;32m----> 1\u001b[0;31m \u001b[0mmainList\u001b[0m\u001b[0;34m[\u001b[0m\u001b[0mlen\u001b[0m\u001b[0;34m(\u001b[0m\u001b[0mmainList\u001b[0m\u001b[0;34m)\u001b[0m \u001b[0;34m-\u001b[0m \u001b[0;36m1\u001b[0m\u001b[0;34m]\u001b[0m\u001b[0;34m.\u001b[0m\u001b[0mprintObject\u001b[0m\u001b[0;34m(\u001b[0m\u001b[0;34m)\u001b[0m\u001b[0;34m\u001b[0m\u001b[0m\n\u001b[0m",
      "\u001b[0;31mIndexError\u001b[0m: list index out of range"
     ]
    }
   ],
   "source": [
    "mainList[len(mainList) - 1].printObject()"
   ]
  },
  {
   "cell_type": "code",
   "execution_count": null,
   "metadata": {},
   "outputs": [],
   "source": [
    "time"
   ]
  },
  {
   "cell_type": "code",
   "execution_count": null,
   "metadata": {},
   "outputs": [],
   "source": [
    "road"
   ]
  },
  {
   "cell_type": "code",
   "execution_count": null,
   "metadata": {},
   "outputs": [],
   "source": [
    "temp = [[[],[]],[[],[]]]\n",
    "print(temp)"
   ]
  },
  {
   "cell_type": "code",
   "execution_count": null,
   "metadata": {},
   "outputs": [],
   "source": [
    "temp[1][0].append(2)\n",
    "print(temp)"
   ]
  }
 ],
 "metadata": {
  "kernelspec": {
   "display_name": "Python 3",
   "language": "python",
   "name": "python3"
  },
  "language_info": {
   "codemirror_mode": {
    "name": "ipython",
    "version": 3
   },
   "file_extension": ".py",
   "mimetype": "text/x-python",
   "name": "python",
   "nbconvert_exporter": "python",
   "pygments_lexer": "ipython3",
   "version": "3.6.2"
  }
 },
 "nbformat": 4,
 "nbformat_minor": 2
}
