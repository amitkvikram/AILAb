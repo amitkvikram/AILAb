{
 "cells": [
  {
   "cell_type": "code",
   "execution_count": 99,
   "metadata": {
    "collapsed": true
   },
   "outputs": [],
   "source": [
    "import numpy as np\n",
    "import pickle\n",
    "import os\n",
    "import pandas as pd"
   ]
  },
  {
   "cell_type": "code",
   "execution_count": 100,
   "metadata": {},
   "outputs": [
    {
     "data": {
      "text/plain": [
       "['time',\n",
       " 'lab2.py',\n",
       " '.~lock.traffic_details.csv#',\n",
       " 'lab2.pdf',\n",
       " '.ipynb_checkpoints',\n",
       " 'vehicle',\n",
       " 'traffic_details.csv',\n",
       " 'road',\n",
       " 'lab2-A*.ipynb']"
      ]
     },
     "execution_count": 100,
     "metadata": {},
     "output_type": "execute_result"
    }
   ],
   "source": [
    "os.listdir()"
   ]
  },
  {
   "cell_type": "code",
   "execution_count": 101,
   "metadata": {},
   "outputs": [
    {
     "data": {
      "text/plain": [
       "(100, 1)"
      ]
     },
     "metadata": {},
     "output_type": "display_data"
    },
    {
     "name": "stdout",
     "output_type": "stream",
     "text": [
      "time = [[ 0.01749436]\n",
      " [ 0.03836497]\n",
      " [ 0.04407601]]\n"
     ]
    }
   ],
   "source": [
    "time = np.array(np.load('time', encoding = 'latin1')).astype(np.float)/60\n",
    "display(time.shape)\n",
    "print(\"time =\",time[0:3,:])"
   ]
  },
  {
   "cell_type": "code",
   "execution_count": 102,
   "metadata": {
    "scrolled": true
   },
   "outputs": [
    {
     "data": {
      "text/plain": [
       "(100, 5)"
      ]
     },
     "metadata": {},
     "output_type": "display_data"
    },
    {
     "name": "stdout",
     "output_type": "stream",
     "text": [
      "vehicle =  [[1 0 5 3 7]\n",
      " [7 8 7 8 7]\n",
      " [3 7 0 1 9]]\n"
     ]
    }
   ],
   "source": [
    "vehicle = np.array(np.load('vehicle'))\n",
    "display(vehicle.shape)\n",
    "print(\"vehicle = \",vehicle[0:3,:])"
   ]
  },
  {
   "cell_type": "code",
   "execution_count": 103,
   "metadata": {},
   "outputs": [
    {
     "name": "stdout",
     "output_type": "stream",
     "text": [
      "(10, 10)\n",
      "road =  [[ 0.  3.  6.  0.  0.  8.  0.  0.  0.  0.]\n",
      " [ 8.  0.  0.  0.  0.  0.  0.  0.  9.  2.]\n",
      " [ 0.  7.  0.  0.  0.  0.  8.  0.  0.  0.]\n",
      " [ 0.  0.  0.  0.  0.  0.  0.  4.  7.  0.]\n",
      " [ 0.  9.  0.  0.  0.  0.  3.  0.  0.  0.]\n",
      " [ 5.  0.  2.  9.  0.  0.  0.  0.  0.  0.]\n",
      " [ 7.  2.  0.  0.  6.  0.  0.  0.  0.  0.]\n",
      " [ 6.  0.  0.  0.  0.  9.  0.  0.  5.  0.]\n",
      " [ 0.  3.  2.  0.  0.  0.  0.  1.  0.  0.]\n",
      " [ 3.  0.  0.  0.  0.  0.  0.  5.  0.  0.]]\n"
     ]
    }
   ],
   "source": [
    "road = np.array(np.load('road')).astype(np.float)\n",
    "print(road.shape)\n",
    "print( \"road = \",road)"
   ]
  },
  {
   "cell_type": "code",
   "execution_count": 104,
   "metadata": {
    "collapsed": true
   },
   "outputs": [],
   "source": [
    "def calcSpeed(x):\n",
    "    return np.exp(.5*x)/(1 + np.exp(0.5*x)) + 15/(1 + np.exp(0.5*x))"
   ]
  },
  {
   "cell_type": "code",
   "execution_count": 105,
   "metadata": {
    "collapsed": true
   },
   "outputs": [],
   "source": [
    "class mainListItem:\n",
    "    def __init__(self, vehicle_no, start_time, source, departure):\n",
    "        self.vehicle_no = vehicle_no\n",
    "        self.start_time =start_time\n",
    "        self.source = source\n",
    "        self.destination = departure\n",
    "    def printObject(self):\n",
    "        print(self.vehicle_no, self.start_time, self.source, self.destination);"
   ]
  },
  {
   "cell_type": "code",
   "execution_count": 106,
   "metadata": {},
   "outputs": [
    {
     "data": {
      "text/plain": [
       "0.017494358116171692"
      ]
     },
     "execution_count": 106,
     "metadata": {},
     "output_type": "execute_result"
    }
   ],
   "source": [
    "time[0, 0]"
   ]
  },
  {
   "cell_type": "code",
   "execution_count": 107,
   "metadata": {
    "collapsed": true
   },
   "outputs": [],
   "source": [
    "mainList = []\n",
    "for i in range(0, time.shape[0]):\n",
    "    src = vehicle[i,0]\n",
    "    dest = vehicle[i,1]\n",
    "    mainList.append(mainListItem(i, time[i, 0], src, dest))"
   ]
  },
  {
   "cell_type": "code",
   "execution_count": 108,
   "metadata": {
    "collapsed": true
   },
   "outputs": [],
   "source": [
    "class RoadItem:\n",
    "    def __init__(self, vehicle_no, arrival_time, departure_time):\n",
    "        self.vehicle_no = vehicle_no\n",
    "        self.arrival_time = arrival_time\n",
    "        self.departure_time = departure_time\n",
    "    def printObject(self):\n",
    "        print(self.vehicle_no, self.arrival_time, self.departure_time)"
   ]
  },
  {
   "cell_type": "code",
   "execution_count": 109,
   "metadata": {},
   "outputs": [
    {
     "name": "stdout",
     "output_type": "stream",
     "text": [
      "10 10 0\n"
     ]
    }
   ],
   "source": [
    "import sys\n",
    "INT_MAX = sys.maxsize\n",
    "roadList = [[[] for j in range(10)] for k in range(10)]\n",
    "# roadList.append(road[0,:].tolist)\n",
    "# roadList[0]\n",
    "print(len(roadList), len(roadList[0]), len(roadList[0][0]))"
   ]
  },
  {
   "cell_type": "code",
   "execution_count": 110,
   "metadata": {},
   "outputs": [
    {
     "data": {
      "text/plain": [
       "0.017494358116171692"
      ]
     },
     "execution_count": 110,
     "metadata": {},
     "output_type": "execute_result"
    }
   ],
   "source": [
    "min(mainList, key = lambda x:x.start_time).start_time"
   ]
  },
  {
   "cell_type": "code",
   "execution_count": 111,
   "metadata": {},
   "outputs": [
    {
     "name": "stdout",
     "output_type": "stream",
     "text": [
      "[[ 0.  3.  6.  0.  0.  8.  0.  0.  0.  0.]\n",
      " [ 8.  0.  0.  0.  0.  0.  0.  0.  9.  2.]\n",
      " [ 0.  7.  0.  0.  0.  0.  8.  0.  0.  0.]\n",
      " [ 0.  0.  0.  0.  0.  0.  0.  4.  7.  0.]\n",
      " [ 0.  9.  0.  0.  0.  0.  3.  0.  0.  0.]\n",
      " [ 5.  0.  2.  9.  0.  0.  0.  0.  0.  0.]\n",
      " [ 7.  2.  0.  0.  6.  0.  0.  0.  0.  0.]\n",
      " [ 6.  0.  0.  0.  0.  9.  0.  0.  5.  0.]\n",
      " [ 0.  3.  2.  0.  0.  0.  0.  1.  0.  0.]\n",
      " [ 3.  0.  0.  0.  0.  0.  0.  5.  0.  0.]]\n"
     ]
    }
   ],
   "source": [
    "print(np.array(road))"
   ]
  },
  {
   "cell_type": "code",
   "execution_count": 113,
   "metadata": {},
   "outputs": [
    {
     "data": {
      "text/plain": [
       "(100, 5)"
      ]
     },
     "execution_count": 113,
     "metadata": {},
     "output_type": "execute_result"
    }
   ],
   "source": [
    "output = np.zeros(vehicle.shape)\n",
    "output.shape"
   ]
  },
  {
   "cell_type": "code",
   "execution_count": 114,
   "metadata": {
    "collapsed": true
   },
   "outputs": [],
   "source": [
    "\n",
    "def timeTaknOnCurrRoad(vehicle_no, destination, length, currRoadCarList, start_time):\n",
    "    timeTaken = 0;\n",
    "    carAhead = 0;\n",
    "    sz = len(currRoadCarList)\n",
    "    currRoadCarList.sort(key = lambda x:x.departure_time, reverse = False)\n",
    "    tot = 0\n",
    "    for i in range(len(currRoadCarList)):\n",
    "        if(vehicle_no == 0):\n",
    "            print(\"DepartureTime = \", currRoadCarList[sz - 1].departure_time)\n",
    "        if(start_time < currRoadCarList[sz - 1].departure_time):\n",
    "            tot = tot + 1\n",
    "            sz-=1\n",
    "        else:\n",
    "            break;\n",
    "    ind = 0\n",
    "    last_time = start_time\n",
    "    if(vehicle_no == 0):\n",
    "        print(\"lenCurrRoad = \",len(currRoadCarList), \"tot = \", tot, \"length = \", length, \"Speed =\",calcSpeed(0))\n",
    "    while(carAhead>0 and length > 0):\n",
    "        currTravel = calcSpeed(tot) * (currRoadCarList[ind].departure_time - last_time)\n",
    "        if(currTravel >= length):\n",
    "            if(currObj.vehicle_no == 0):\n",
    "                print(\"decreasing1\", tot, length, calcSpeed(tot))\n",
    "            length = length - currTravel\n",
    "            timeTaken = timeTaken + currRoadCarList[ind].departure_time - last_time\n",
    "            last_time = currRoadCarList[ind].departure_time\n",
    "        else:\n",
    "            if(currObj.vehicle_no == 0):\n",
    "                print(\"decreasing2\", tot, length)\n",
    "            timeTaken = timeTaken + (length/calcSpeed(tot))\n",
    "            length = 0\n",
    "        if(currObj.vehicle_no == 0):\n",
    "            print(\"decreasing\", tot, len)\n",
    "        tot-=1;\n",
    "        ind+=1;\n",
    "    if(length>0.0):\n",
    "        if(vehicle_no == 0):\n",
    "            print(\"Lenght not zero\", length)\n",
    "        timeTaken += length/calcSpeed(0)\n",
    "    return timeTaken"
   ]
  },
  {
   "cell_type": "code",
   "execution_count": 57,
   "metadata": {},
   "outputs": [
    {
     "data": {
      "text/plain": [
       "[]"
      ]
     },
     "execution_count": 57,
     "metadata": {},
     "output_type": "execute_result"
    }
   ],
   "source": [
    "roadList[1][0]"
   ]
  },
  {
   "cell_type": "code",
   "execution_count": 115,
   "metadata": {},
   "outputs": [
    {
     "name": "stdout",
     "output_type": "stream",
     "text": [
      "CurrObj = \n",
      "0 0.0174943581162 1 0\n",
      "lenCurrRoad =  0 tot =  0 length =  8.0 Speed = 8.0\n",
      "Lenght not zero 8.0\n",
      "timeTaken =  1.0\n",
      "CurrObj = \n",
      "0 1.01749435812 0 5\n",
      "DepartureTime =  6.59273106282\n",
      "DepartureTime =  5.65521902264\n",
      "DepartureTime =  4.47474989014\n",
      "DepartureTime =  3.58337114075\n",
      "DepartureTime =  2.74609806712\n",
      "DepartureTime =  2.05483121918\n",
      "DepartureTime =  1.62489682472\n",
      "DepartureTime =  1.16830631503\n",
      "lenCurrRoad =  8 tot =  8 length =  8.0 Speed = 8.0\n",
      "decreasing2 8 8.0\n",
      "decreasing 8 <built-in function len>\n",
      "timeTaken =  6.39076182418\n",
      "CurrObj = \n",
      "0 7.40825618229 5 3\n",
      "DepartureTime =  8.87524497526\n",
      "DepartureTime =  7.84700035737\n",
      "DepartureTime =  7.1107618032\n",
      "lenCurrRoad =  11 tot =  2 length =  9.0 Speed = 8.0\n",
      "decreasing2 2 9.0\n",
      "decreasing 2 <built-in function len>\n",
      "timeTaken =  1.88870099145\n",
      "CurrObj = \n",
      "0 9.29695717374 3 7\n",
      "DepartureTime =  8.34700035737\n",
      "lenCurrRoad =  9 tot =  0 length =  4.0 Speed = 8.0\n",
      "Lenght not zero 4.0\n",
      "timeTaken =  0.5\n"
     ]
    }
   ],
   "source": [
    "while len(mainList)!=0:\n",
    "    mainList.sort(key = lambda x:x.start_time, reverse = True)\n",
    "#     print(mainList)\n",
    "    currObj = mainList.pop()\n",
    "    if(currObj.vehicle_no == 0):\n",
    "        print(\"CurrObj = \")\n",
    "        currObj.printObject()\n",
    "    if output[currObj.vehicle_no][0] == 4:\n",
    "        continue\n",
    "    currRoadCarList = roadList[currObj.source][currObj.destination]     #Type: RoadItem\n",
    "    timeTaken = timeTaknOnCurrRoad(currObj.vehicle_no,\n",
    "                                   currObj.destination, \n",
    "                                   road[currObj.source, currObj.destination], \n",
    "                                   currRoadCarList,\n",
    "                                  currObj.start_time)\n",
    "    if(currObj.vehicle_no == 0):\n",
    "            print(\"timeTaken = \", timeTaken)\n",
    "    roadList[currObj.source][currObj.destination].append(RoadItem(currObj.vehicle_no,\n",
    "                                                                  currObj.start_time, \n",
    "                                                                  currObj.start_time + timeTaken))\n",
    "    output[currObj.vehicle_no][0] = output[currObj.vehicle_no][0].astype(np.int)+1\n",
    "    ind1 = output[currObj.vehicle_no][0].astype(np.int)\n",
    "#     print(ind1)\n",
    "    output[currObj.vehicle_no][ind1] = currObj.start_time + timeTaken\n",
    "#     print(timeTaken, \"startTime = \", currObj.start_time)\n",
    "    if output[currObj.vehicle_no][0] != 4:\n",
    "        st = currObj.start_time + timeTaken,\n",
    "#         print(\"appending\", st)\n",
    "        mainList.append(mainListItem(currObj.vehicle_no,\n",
    "                                st[0],\n",
    "                                currObj.destination,\n",
    "                                vehicle[currObj.vehicle_no][output[currObj.vehicle_no][0].astype(np.int) + 1]))\n",
    "#     mainListItem(currObj.vehicle_no, \n",
    "# currObj.start_time,\n",
    "# currObj.source,\n",
    "# currObj.destination)"
   ]
  },
  {
   "cell_type": "code",
   "execution_count": 116,
   "metadata": {},
   "outputs": [
    {
     "name": "stdout",
     "output_type": "stream",
     "text": [
      "[[  4.           1.01749436   7.40825618   9.29695717   9.79695717]\n",
      " [  4.           0.66336497   0.78836497   1.8376433    1.9626433 ]\n",
      " [  4.           0.54407601   1.49864347   2.34277291   2.90552586]\n",
      " [  4.           0.92046561   6.59273106   6.84273106  13.23349289]\n",
      " [  4.           0.1845514    0.9345514    1.5641184    1.88230756]\n",
      " [  4.           0.44651686   1.19651686   1.82608386   2.14427301]\n",
      " [  4.           0.23729116   1.28656949   1.49642515   4.40620097]\n",
      " [  4.           0.34285789   1.13833077   4.51058124   8.87524498]\n",
      " [  4.           0.98469408   1.46197781   7.84327644   7.96827644]\n",
      " [  4.           0.35984826   2.24854925   2.37354925   9.5631563 ]\n",
      " [  4.           0.74311277   1.11811277   4.49036324   4.74036324]\n",
      " [  4.           1.24884028   3.13754127   4.60653093   4.98153093]\n",
      " [  4.           1.2505523    3.22018765   3.37928223   5.62744921]\n",
      " [  4.           1.24402171   1.87358871   2.43634167   5.98150757]\n",
      " [  4.           0.50586729   0.75586729   2.62933977   3.42481266]\n",
      " [  4.           0.46409429   2.71510612   3.97424011   5.94387547]\n",
      " [  4.           1.58485145   4.95710192   6.07076396   6.32076396]\n",
      " [  4.           0.95253799   1.20253799   5.08223909   6.03680655]\n",
      " [  4.           1.28618486   1.44527944   6.85405608   7.10405608]\n",
      " [  4.           1.16830632   2.60015751   3.10015751   4.78841638]\n",
      " [  4.           1.28450477   7.67526659   8.30026659   8.67526659]\n",
      " [  4.           1.18492889   1.60464022   7.99540204  15.83073046]\n",
      " [  4.           1.53748981   8.85211049  13.21677423  13.71677423]\n",
      " [  4.           2.16569589   2.96116877   3.4384525    3.85816383]\n",
      " [  4.           0.67301609   1.62758355   3.09657321  10.41119389]\n",
      " [  4.           0.9416294    1.89619686   9.21081754  14.61959418]\n",
      " [  4.           1.77399236   2.09218151   6.89998296   7.64998296]\n",
      " [  4.           1.62489682   5.98956056   6.48956056   7.11456056]\n",
      " [  4.           1.47936133   7.15162678  14.88395878  15.13395878]\n",
      " [  4.           2.04130695   2.67087395  11.36974744  11.49474744]\n",
      " [  4.           0.84741757   5.65521902   5.90521902   8.5280805 ]\n",
      " [  4.           2.05483122   2.8503041    4.53856298  10.9293248 ]\n",
      " [  4.           0.70236049   3.69991646   6.60969229   8.57932764]\n",
      " [  4.           1.44073324   5.80539697   6.43039697  13.99911673]\n",
      " [  4.           1.19928569   2.31294773  10.82775745  10.95275745]\n",
      " [  4.           1.25417933   2.51331332   5.1361748   12.86850679]\n",
      " [  4.           1.86783469   9.05744174  13.42210548  14.05848379]\n",
      " [  4.           2.74609807   7.1107618    7.74714011   8.70170757]\n",
      " [  4.           1.96213483   2.71152383   6.25668973  14.05688549]\n",
      " [  4.           0.90890884   2.3778985    9.94661825  10.19661825]\n",
      " [  4.           0.79961896   3.05063079   3.92563079   6.83540662]\n",
      " [  4.           1.82913507   2.94279711   5.85257293  12.24333476]\n",
      " [  4.           3.58337114   3.83337114   9.50563659  10.38063659]\n",
      " [  4.           4.47474989   7.84700036   8.34700036  14.72829899]\n",
      " [  4.           2.12785094   2.37785094   7.1856524    7.4356524 ]\n",
      " [  4.           1.15453678   2.41367078   8.08593622   8.33593622]\n",
      " [  4.           2.37054008   2.68872924   3.10844057   3.48344057]\n",
      " [  4.           3.1831224   11.41207067  15.7767344   16.2767344 ]\n",
      " [  4.           3.29307103   3.45216561  12.1510391   12.4010391 ]\n",
      " [  4.           1.2456902    1.80844316   9.60863891   9.92682807]\n",
      " [  4.           1.1687654    4.16632137   4.6436051    4.8936051 ]\n",
      " [  4.           2.76604677   3.24333051   3.66304184   6.66791775]\n",
      " [  4.           1.28575179   5.65041553   6.02541553  14.72428903]\n",
      " [  4.           1.45225819   1.92954192   2.49229488   2.96957861]\n",
      " [  4.           1.49018664   2.11975364  10.63456337  10.88456337]\n",
      " [  4.           3.86671046   4.61671046   4.99171046   5.74171046]\n",
      " [  4.           1.75596751   2.17567885   2.65296258  10.38529457]\n",
      " [  4.           1.14616174   1.39616174   3.82097493   6.0691419 ]\n",
      " [  4.           1.46649615   7.84779478   9.73649577  10.37287408]\n",
      " [  4.           1.47489647   1.8946078   10.12355607  10.24855607]\n",
      " [  4.           1.15190303   2.41103702   3.04060402   9.97411136]\n",
      " [  4.           4.91845134   5.16845134  13.00377976  19.39454158]\n",
      " [  4.           1.90676616   9.47548591   9.72548591  10.60048591]\n",
      " [  4.           1.70002812   3.10691051   3.58419424  12.28306774]\n",
      " [  4.           3.60239325   6.97464371   7.47464371   8.09964371]\n",
      " [  4.           1.26091892   4.63316938   4.88316938   7.50603086]\n",
      " [  4.           2.17701742   2.49520657   4.46484193  13.35149518]\n",
      " [  4.           1.44991504   6.85869167   7.10869167  13.4994535 ]\n",
      " [  4.           3.03092183   3.45063316   4.08020016   4.45520016]\n",
      " [  4.           1.35469217   3.60285915  11.17157891  11.42157891]\n",
      " [  4.           1.46729861   6.27510007   7.53423406   9.00322372]\n",
      " [  4.           3.12419893   3.24919893  11.76400865  12.01400865]\n",
      " [  4.           3.73491671  11.04953739  11.42453739  14.79678786]\n",
      " [  4.           2.05996604   2.37815519   8.76891702   9.51891702]\n",
      " [  4.           3.10370437  10.90390013  14.27615059  15.15115059]\n",
      " [  4.           1.7111267    9.51132245   9.76132245  10.87498449]\n",
      " [  4.           2.92932346   5.17749044  10.84975589  11.09975589]\n",
      " [  4.           3.17102446   5.14065981   5.51565981  13.35098823]\n",
      " [  4.           5.19211784  12.7608376   13.3858376   14.1358376 ]\n",
      " [  4.           5.68039086   5.80539086   8.05355784  15.95280517]\n",
      " [  4.           6.14371002   6.39371002  14.22903843  14.97903843]\n",
      " [  4.           3.02688755   6.42162601   6.67162601   7.04662601]\n",
      " [  4.           2.21747569   3.90573457   9.57800002   9.82800002]\n",
      " [  4.           4.40801805   6.65618503   7.03118503   7.28118503]\n",
      " [  4.           1.65765748   3.62729283  12.4420373   12.8170373 ]\n",
      " [  4.           2.05821758   2.90234702   9.29310884  10.2476763 ]\n",
      " [  4.           3.96670917   4.46670917   5.09170917   5.21670917]\n",
      " [  4.           1.68605888   4.69093479   6.93910176  14.50782152]\n",
      " [  4.           2.29716168   3.04716168   3.42216168   4.53582372]\n",
      " [  4.           2.52350112   2.89850112   3.31821245   3.79549618]\n",
      " [  4.           2.59848553   3.553053     5.44175399   5.69175399]\n",
      " [  4.           8.45588929  11.82813975  12.70313975  12.95313975]\n",
      " [  4.           7.21406741  15.04939582  15.67439582  16.42439582]\n",
      " [  4.           1.86905942   3.83869477  11.40741453  17.79817635]\n",
      " [  4.           4.18318635   4.43318635   7.05604782   7.37423698]\n",
      " [  4.           1.68980525   8.07110388  10.60349219  11.47849219]\n",
      " [  4.           4.11067679  11.84300878  12.21800878  15.21556475]\n",
      " [  4.           1.99958868   5.00446459   7.25263157  15.15187891]\n",
      " [  4.           4.49581823   4.97310197   5.22310197   6.62998436]\n",
      " [  4.           8.83230259   8.95730259  16.14690964  16.39690964]]\n"
     ]
    }
   ],
   "source": [
    "print(output)"
   ]
  },
  {
   "cell_type": "code",
   "execution_count": 60,
   "metadata": {},
   "outputs": [
    {
     "ename": "IndexError",
     "evalue": "list index out of range",
     "output_type": "error",
     "traceback": [
      "\u001b[0;31m---------------------------------------------------------------------------\u001b[0m",
      "\u001b[0;31mIndexError\u001b[0m                                Traceback (most recent call last)",
      "\u001b[0;32m<ipython-input-60-7d2dafd3f40e>\u001b[0m in \u001b[0;36m<module>\u001b[0;34m()\u001b[0m\n\u001b[0;32m----> 1\u001b[0;31m \u001b[0mmainList\u001b[0m\u001b[0;34m[\u001b[0m\u001b[0mlen\u001b[0m\u001b[0;34m(\u001b[0m\u001b[0mmainList\u001b[0m\u001b[0;34m)\u001b[0m \u001b[0;34m-\u001b[0m \u001b[0;36m1\u001b[0m\u001b[0;34m]\u001b[0m\u001b[0;34m.\u001b[0m\u001b[0mprintObject\u001b[0m\u001b[0;34m(\u001b[0m\u001b[0;34m)\u001b[0m\u001b[0;34m\u001b[0m\u001b[0m\n\u001b[0m",
      "\u001b[0;31mIndexError\u001b[0m: list index out of range"
     ]
    }
   ],
   "source": [
    "mainList[len(mainList) - 1].printObject()"
   ]
  },
  {
   "cell_type": "code",
   "execution_count": null,
   "metadata": {
    "collapsed": true
   },
   "outputs": [],
   "source": [
    "time"
   ]
  },
  {
   "cell_type": "code",
   "execution_count": 81,
   "metadata": {},
   "outputs": [
    {
     "data": {
      "text/plain": [
       "array([[ 0.,  3.,  6.,  0.,  0.,  8.,  0.,  0.,  0.,  0.],\n",
       "       [ 8.,  0.,  0.,  0.,  0.,  0.,  0.,  0.,  9.,  2.],\n",
       "       [ 0.,  7.,  0.,  0.,  0.,  0.,  8.,  0.,  0.,  0.],\n",
       "       [ 0.,  0.,  0.,  0.,  0.,  0.,  0.,  4.,  7.,  0.],\n",
       "       [ 0.,  9.,  0.,  0.,  0.,  0.,  3.,  0.,  0.,  0.],\n",
       "       [ 5.,  0.,  2.,  9.,  0.,  0.,  0.,  0.,  0.,  0.],\n",
       "       [ 7.,  2.,  0.,  0.,  6.,  0.,  0.,  0.,  0.,  0.],\n",
       "       [ 6.,  0.,  0.,  0.,  0.,  9.,  0.,  0.,  5.,  0.],\n",
       "       [ 0.,  3.,  2.,  0.,  0.,  0.,  0.,  1.,  0.,  0.],\n",
       "       [ 3.,  0.,  0.,  0.,  0.,  0.,  0.,  5.,  0.,  0.]])"
      ]
     },
     "execution_count": 81,
     "metadata": {},
     "output_type": "execute_result"
    }
   ],
   "source": [
    "road"
   ]
  },
  {
   "cell_type": "code",
   "execution_count": 82,
   "metadata": {},
   "outputs": [
    {
     "data": {
      "text/plain": [
       "array([[1, 0, 5, 3, 7],\n",
       "       [7, 8, 7, 8, 7],\n",
       "       [3, 7, 0, 1, 9],\n",
       "       [6, 0, 5, 2, 6],\n",
       "       [8, 7, 0, 1, 9],\n",
       "       [4, 6, 4, 6, 1],\n",
       "       [8, 7, 8, 7, 0],\n",
       "       [1, 9, 7, 5, 3],\n",
       "       [3, 8, 1, 8, 7],\n",
       "       [6, 1, 8, 7, 5],\n",
       "       [5, 0, 1, 8, 2],\n",
       "       [7, 5, 3, 8, 1],\n",
       "       [5, 3, 8, 7, 0],\n",
       "       [3, 8, 1, 9, 7],\n",
       "       [8, 1, 9, 7, 8],\n",
       "       [6, 1, 0, 2, 1],\n",
       "       [7, 5, 3, 8, 2],\n",
       "       [7, 8, 2, 6, 4],\n",
       "       [1, 8, 7, 5, 2],\n",
       "       [0, 5, 3, 7, 0],\n",
       "       [6, 0, 5, 0, 1],\n",
       "       [2, 6, 1, 0, 5],\n",
       "       [1, 0, 5, 3, 7],\n",
       "       [7, 5, 0, 1, 9],\n",
       "       [9, 0, 2, 1, 0],\n",
       "       [9, 7, 0, 5, 3],\n",
       "       [1, 8, 2, 6, 4],\n",
       "       [0, 5, 3, 7, 8],\n",
       "       [4, 1, 0, 5, 2],\n",
       "       [1, 0, 1, 8, 7],\n",
       "       [9, 0, 5, 2, 1],\n",
       "       [0, 5, 0, 2, 6],\n",
       "       [6, 1, 0, 2, 1],\n",
       "       [9, 7, 5, 0, 5],\n",
       "       [0, 2, 1, 8, 7],\n",
       "       [5, 0, 2, 1, 0],\n",
       "       [9, 7, 5, 3, 7],\n",
       "       [0, 5, 3, 7, 0],\n",
       "       [4, 1, 9, 7, 5],\n",
       "       [4, 6, 0, 5, 2],\n",
       "       [5, 2, 6, 0, 2],\n",
       "       [2, 6, 0, 2, 6],\n",
       "       [0, 5, 2, 6, 0],\n",
       "       [0, 5, 3, 7, 5],\n",
       "       [3, 8, 2, 6, 1],\n",
       "       [9, 0, 2, 6, 1],\n",
       "       [2, 6, 1, 9, 0],\n",
       "       [9, 7, 5, 3, 7],\n",
       "       [1, 8, 7, 5, 2],\n",
       "       [4, 6, 1, 8, 2],\n",
       "       [8, 1, 0, 1, 9],\n",
       "       [3, 8, 1, 9, 7],\n",
       "       [0, 1, 8, 1, 8],\n",
       "       [9, 0, 1, 9, 0],\n",
       "       [9, 0, 1, 8, 2],\n",
       "       [2, 6, 4, 6, 4],\n",
       "       [2, 1, 9, 0, 5],\n",
       "       [6, 1, 9, 7, 0],\n",
       "       [3, 7, 5, 3, 7],\n",
       "       [4, 6, 1, 8, 7],\n",
       "       [8, 7, 0, 1, 0],\n",
       "       [2, 6, 1, 0, 5],\n",
       "       [9, 0, 5, 2, 1],\n",
       "       [3, 7, 8, 1, 8],\n",
       "       [7, 5, 3, 7, 8],\n",
       "       [8, 7, 5, 2, 1],\n",
       "       [7, 8, 2, 1, 8],\n",
       "       [6, 1, 8, 2, 6],\n",
       "       [4, 1, 9, 0, 1],\n",
       "       [8, 7, 0, 5, 2],\n",
       "       [6, 1, 0, 2, 1],\n",
       "       [3, 8, 7, 5, 2],\n",
       "       [4, 1, 0, 1, 8],\n",
       "       [4, 6, 1, 0, 2],\n",
       "       [9, 7, 5, 3, 8],\n",
       "       [8, 1, 8, 2, 1],\n",
       "       [7, 0, 2, 6, 1],\n",
       "       [5, 3, 8, 1, 0],\n",
       "       [1, 0, 5, 0, 2],\n",
       "       [1, 8, 7, 0, 5],\n",
       "       [2, 6, 1, 0, 2],\n",
       "       [0, 2, 1, 9, 0],\n",
       "       [9, 0, 2, 6, 1],\n",
       "       [9, 7, 0, 1, 9],\n",
       "       [8, 2, 1, 8, 1],\n",
       "       [5, 0, 1, 0, 2],\n",
       "       [5, 3, 7, 8, 7],\n",
       "       [1, 9, 7, 0, 5],\n",
       "       [4, 6, 4, 6, 0],\n",
       "       [7, 8, 1, 9, 0],\n",
       "       [4, 6, 4, 1, 9],\n",
       "       [0, 5, 3, 8, 2],\n",
       "       [1, 0, 5, 0, 2],\n",
       "       [8, 2, 1, 0, 5],\n",
       "       [3, 8, 2, 1, 9],\n",
       "       [8, 7, 5, 3, 8],\n",
       "       [4, 1, 0, 1, 0],\n",
       "       [1, 9, 7, 0, 5],\n",
       "       [7, 0, 1, 9, 7],\n",
       "       [1, 8, 7, 5, 2]])"
      ]
     },
     "execution_count": 82,
     "metadata": {},
     "output_type": "execute_result"
    }
   ],
   "source": [
    "vehicle"
   ]
  },
  {
   "cell_type": "code",
   "execution_count": null,
   "metadata": {
    "collapsed": true
   },
   "outputs": [],
   "source": [
    "temp = [[[],[]],[[],[]]]\n",
    "print(temp)"
   ]
  },
  {
   "cell_type": "code",
   "execution_count": null,
   "metadata": {
    "collapsed": true
   },
   "outputs": [],
   "source": [
    "temp[1][0].append(2)\n",
    "print(temp)"
   ]
  }
 ],
 "metadata": {
  "kernelspec": {
   "display_name": "Python 3",
   "language": "python",
   "name": "python3"
  },
  "language_info": {
   "codemirror_mode": {
    "name": "ipython",
    "version": 3
   },
   "file_extension": ".py",
   "mimetype": "text/x-python",
   "name": "python",
   "nbconvert_exporter": "python",
   "pygments_lexer": "ipython3",
   "version": "3.6.2"
  }
 },
 "nbformat": 4,
 "nbformat_minor": 2
}
