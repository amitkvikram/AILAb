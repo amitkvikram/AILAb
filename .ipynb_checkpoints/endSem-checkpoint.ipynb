{
 "cells": [
  {
   "cell_type": "markdown",
   "metadata": {},
   "source": [
    "#### Q.1"
   ]
  },
  {
   "cell_type": "code",
   "execution_count": 1,
   "metadata": {},
   "outputs": [
    {
     "name": "stdout",
     "output_type": "stream",
     "text": [
      "Enter n: 4\n",
      "Enter Red block Position(i j): 1\n",
      "[1]\n"
     ]
    },
    {
     "ename": "IndexError",
     "evalue": "list index out of range",
     "output_type": "error",
     "traceback": [
      "\u001b[0;31m---------------------------------------------------------------------------\u001b[0m",
      "\u001b[0;31mIndexError\u001b[0m                                Traceback (most recent call last)",
      "\u001b[0;32m<ipython-input-1-f193ad639cf8>\u001b[0m in \u001b[0;36m<module>\u001b[0;34m()\u001b[0m\n\u001b[1;32m     48\u001b[0m \u001b[0mprint\u001b[0m\u001b[0;34m(\u001b[0m\u001b[0mredBlock\u001b[0m\u001b[0;34m)\u001b[0m\u001b[0;34m\u001b[0m\u001b[0m\n\u001b[1;32m     49\u001b[0m \u001b[0;31m###initialize red block\u001b[0m\u001b[0;34m\u001b[0m\u001b[0;34m\u001b[0m\u001b[0m\n\u001b[0;32m---> 50\u001b[0;31m \u001b[0mgrid\u001b[0m\u001b[0;34m[\u001b[0m\u001b[0mredBlock\u001b[0m\u001b[0;34m[\u001b[0m\u001b[0;36m0\u001b[0m\u001b[0;34m]\u001b[0m\u001b[0;34m]\u001b[0m\u001b[0;34m[\u001b[0m\u001b[0mredBlock\u001b[0m\u001b[0;34m[\u001b[0m\u001b[0;36m1\u001b[0m\u001b[0;34m]\u001b[0m\u001b[0;34m]\u001b[0m \u001b[0;34m=\u001b[0m \u001b[0;36m2\u001b[0m\u001b[0;34m\u001b[0m\u001b[0m\n\u001b[0m\u001b[1;32m     51\u001b[0m \u001b[0;34m\u001b[0m\u001b[0m\n\u001b[1;32m     52\u001b[0m \u001b[0mnumEmpty\u001b[0m \u001b[0;34m=\u001b[0m \u001b[0mint\u001b[0m\u001b[0;34m(\u001b[0m\u001b[0minput\u001b[0m\u001b[0;34m(\u001b[0m\u001b[0;34m\"Enter number of empty blocks: \"\u001b[0m\u001b[0;34m)\u001b[0m\u001b[0;34m)\u001b[0m\u001b[0;34m\u001b[0m\u001b[0m\n",
      "\u001b[0;31mIndexError\u001b[0m: list index out of range"
     ]
    }
   ],
   "source": [
    "from queue import PriorityQueue\n",
    "import numpy as np\n",
    "import copy\n",
    "\n",
    "class Coord:\n",
    "    def __init__(x, y):\n",
    "        row = x\n",
    "        col = y\n",
    "        \n",
    "#==========================Class to represent state of a configuration=================================\n",
    "class State:\n",
    "    def __init__(self, grid):\n",
    "        self.grid = grid\n",
    "\n",
    "    def __eq__(self, other):\n",
    "        return np.array_equal(self.grid, other.grid)\n",
    "\n",
    "    def __cmp__(self, other):\n",
    "        return np.array_equal(self.grid, other.grid)\n",
    "\n",
    "    # overriding hashing function\n",
    "    def __hash__(self) :\n",
    "        return hash(str(self.grid))\n",
    "    \n",
    "        \n",
    "class QueueNode:\n",
    "    def __init__(self, g, priority, parent, state, redBlock, action):\n",
    "        self.g = g\n",
    "        self.redBlock = redBlock\n",
    "        self.priority = priority\n",
    "        self.parent = parent\n",
    "        self.state = state\n",
    "        self.action = action\n",
    "            \n",
    "            #define compare function to compare the priority\n",
    "#     def __cmp__(self, other):\n",
    "#         return cmp(self.priority, other.priority)\n",
    "    \n",
    "    def __lt__(self, other):\n",
    "        return self.priority < other.priority\n",
    "    \n",
    "#     def __eq__(self, other):\n",
    "#         return (self.priority == other.priority)\n",
    "            \n",
    "n = int(input(\"Enter n: \"))\n",
    "grid = np.ones((n, n))\n",
    "redBlock = list(map(int, (input(\"Enter Red block Position(i j): \").split())))\n",
    "print(redBlock)\n",
    "###initialize red block\n",
    "grid[redBlock[0]][redBlock[1]] = 2\n",
    "\n",
    "numEmpty = int(input(\"Enter number of empty blocks: \"))\n",
    "for i in range(numEmpty):\n",
    "    b = list(map(int, (input(\"Enter \"+str(i) + \"empty block Position(i j): \").split())))\n",
    "    grid[b[0]][b[1]] = 0\n",
    "    \n",
    "print(grid)\n",
    "\n",
    "actionList = ['left', 'right', 'down', 'up']\n",
    "actionToInd = {'left':0, 'right':1, 'down':2, 'up': 3}\n",
    "actionToTuple = {'left':(0, -1), 'right':(0, 1), 'down':(1, 0), 'up': (-1, 0)}\n"
   ]
  },
  {
   "cell_type": "code",
   "execution_count": null,
   "metadata": {},
   "outputs": [],
   "source": [
    "import copy\n",
    "\n",
    "def heuristic(n, redBlock):\n",
    "#     print(n, redBlock)\n",
    "    return (np.abs(redBlock[0] - 0) + np.abs(redBlock[1] - (n - 1)))\n",
    "\n",
    "def reachedGoal(M):\n",
    "    if(M[0, -1] == 2):\n",
    "        return True\n",
    "\n",
    "    return False\n",
    "\n",
    "Q = PriorityQueue()\n",
    "h = heuristic(grid, redBlock)\n",
    "state = QueueNode(0, 0 + h, None, State(grid.copy()), tuple(redBlock), None)\n",
    "Q.put(state)\n",
    "explored = set()\n",
    "\n",
    "def isValid(i, j):\n",
    "    if(i > n-1 or i<0 or j > n - 1 or j<0):\n",
    "        return False\n",
    "    return True\n",
    "\n",
    "def getNextState(M, i, j, action, redBlock):\n",
    "    d = actionToTuple[action]\n",
    "    x, y = i+d[0], j + d[1]\n",
    "    if(not isValid(x, y)):\n",
    "        return None, None\n",
    "    \n",
    "    if(M[x, y] == 0):\n",
    "        return None, None\n",
    "    else:\n",
    "        if(redBlock == (x, y)):\n",
    "            redBlock = i, j\n",
    "        M[i, j], M[x, y] = M[x, y], M[i, j]\n",
    "        return M, redBlock\n",
    "\n",
    "destination = None\n",
    "while(not Q.empty()):\n",
    "    curr = Q.get()\n",
    "    grid1 = curr.state.grid.copy()\n",
    "    if reachedGoal(grid1):\n",
    "        print(\"Reached\")\n",
    "        destination = curr\n",
    "        break\n",
    "    for i in range(n):\n",
    "        for j in range(n):\n",
    "            if(grid1[i, j] == 0):\n",
    "                for action in actionList:\n",
    "                    M, redBlock = getNextState(grid1.copy(), i, j, action, curr.redBlock)\n",
    "                    if(M is None):\n",
    "                        continue\n",
    "                    if(not State(M) in explored):\n",
    "                        explored.add(State(M))\n",
    "                        h = heuristic(n, redBlock)\n",
    "#                         print(h, g)\n",
    "                        g = curr.g + 1\n",
    "                        state = QueueNode(g, g + h, copy.copy(curr), State(M), redBlock, action)\n",
    "                        Q.put(state)\n",
    "        \n",
    "#function to Print Path\n",
    "def printPath(curr) :\n",
    "    if(curr is None) : return 0\n",
    "    cost = printPath(curr.parent)\n",
    "    print(curr.action, \"\\n\", curr.state.grid)\n",
    "    return cost + 1\n",
    "\n",
    "print(\"The path is as follows : \\n\")\n",
    "cost = 0\n",
    "cost= printPath(curr)\n",
    "print(\"Cost = \", cost - 1)                     "
   ]
  },
  {
   "cell_type": "code",
   "execution_count": null,
   "metadata": {},
   "outputs": [],
   "source": [
    "tuple(redBlock)"
   ]
  },
  {
   "cell_type": "markdown",
   "metadata": {},
   "source": [
    "---"
   ]
  },
  {
   "cell_type": "markdown",
   "metadata": {},
   "source": [
    "#### Q2"
   ]
  },
  {
   "cell_type": "code",
   "execution_count": null,
   "metadata": {},
   "outputs": [],
   "source": []
  },
  {
   "cell_type": "markdown",
   "metadata": {},
   "source": [
    "---"
   ]
  },
  {
   "cell_type": "markdown",
   "metadata": {},
   "source": [
    "#### Q3"
   ]
  },
  {
   "cell_type": "code",
   "execution_count": 1,
   "metadata": {},
   "outputs": [
    {
     "ename": "NameError",
     "evalue": "name 'np' is not defined",
     "output_type": "error",
     "traceback": [
      "\u001b[0;31m----------------------------------------------------------------------\u001b[0m",
      "\u001b[0;31mNameError\u001b[0m                            Traceback (most recent call last)",
      "\u001b[0;32m<ipython-input-1-4fad0e2bc8a5>\u001b[0m in \u001b[0;36m<module>\u001b[0;34m()\u001b[0m\n\u001b[1;32m     26\u001b[0m \u001b[0mtol\u001b[0m \u001b[0;34m=\u001b[0m \u001b[0;36m0.1\u001b[0m\u001b[0;34m\u001b[0m\u001b[0m\n\u001b[1;32m     27\u001b[0m \u001b[0mSize\u001b[0m \u001b[0;34m=\u001b[0m \u001b[0;34m(\u001b[0m\u001b[0;36m20\u001b[0m\u001b[0;34m,\u001b[0m \u001b[0;36m10\u001b[0m\u001b[0;34m,\u001b[0m \u001b[0;36m10\u001b[0m\u001b[0;34m)\u001b[0m\u001b[0;34m\u001b[0m\u001b[0m\n\u001b[0;32m---> 28\u001b[0;31m \u001b[0mn1\u001b[0m \u001b[0;34m=\u001b[0m \u001b[0mnp\u001b[0m\u001b[0;34m.\u001b[0m\u001b[0marange\u001b[0m\u001b[0;34m(\u001b[0m\u001b[0;36m20\u001b[0m\u001b[0;34m)\u001b[0m\u001b[0;34m\u001b[0m\u001b[0m\n\u001b[0m\u001b[1;32m     29\u001b[0m \u001b[0mn2\u001b[0m \u001b[0;34m=\u001b[0m \u001b[0mnp\u001b[0m\u001b[0;34m.\u001b[0m\u001b[0marange\u001b[0m\u001b[0;34m(\u001b[0m\u001b[0;36m10\u001b[0m\u001b[0;34m)\u001b[0m\u001b[0;34m\u001b[0m\u001b[0m\n\u001b[1;32m     30\u001b[0m \u001b[0mn3\u001b[0m \u001b[0;34m=\u001b[0m \u001b[0mnp\u001b[0m\u001b[0;34m.\u001b[0m\u001b[0marange\u001b[0m\u001b[0;34m(\u001b[0m\u001b[0;36m10\u001b[0m\u001b[0;34m)\u001b[0m\u001b[0;34m\u001b[0m\u001b[0m\n",
      "\u001b[0;31mNameError\u001b[0m: name 'np' is not defined"
     ]
    }
   ],
   "source": [
    "import itertools\n",
    "\n",
    "def poisson(lambda1, n):\n",
    "    return (np.power(lambda1, n)/np.math.factorial(4))*(np.exp(-lambda1))\n",
    "\n",
    "class State:\n",
    "    def __init__(self, car1, car2, car3):\n",
    "        self.car1 = car1\n",
    "        self.car2 = car2\n",
    "        self.car3 = car3\n",
    "        \n",
    "def normInfinity(currValue, optimalValue):\n",
    "    maxDiff = 0\n",
    "    for i in range(currValue.shape[0]):\n",
    "        for j in range(currValue.shape[1]):\n",
    "            maxDiff = max(maxDiff, abs(currValue[i, j] - optimalValue[i, j]))\n",
    "    return maxDiff\n",
    "        \n",
    "\n",
    "\n",
    "requestLambda = [3, 2, 2]\n",
    "returnLambda = [3, 1, 1]\n",
    "\n",
    "gamma = 0.9\n",
    "numIter = 50\n",
    "tol = 0.1\n",
    "Size = (20, 10, 10)\n",
    "n1 = np.arange(20)\n",
    "n2 = np.arange(10)\n",
    "n3 = np.arange(10)\n",
    "\n",
    "n4 = np.arange(-5, 5)\n",
    "\n",
    "def isValidState(car1, car2, car3):\n",
    "     return car1 >= 0 and car2 >=0 and car3 >=0\n",
    "    \n",
    "def normalize(car1, car2, car3):\n",
    "    car1 = min(car1, 19)\n",
    "    car2 = min(car2, 9)\n",
    "    car3 = min(car3, 9)\n",
    "    \n",
    "    return car1, car2, car3\n",
    "\n",
    "def getCost(mv1, mv2, mv3):\n",
    "    cost = np.abs(mv1)*2\n",
    "    return cost\n",
    "\n",
    "def ValueIteration(V, Policy):\n",
    "    for iter1 in range(numIter):\n",
    "        print(iter1)\n",
    "        #State value\n",
    "        for i, j, k in itertools.product(n1, n2, n3):\n",
    "            print(i, j, k)\n",
    "            #Action\n",
    "            maxReward = -10000\n",
    "            for mv1, mv2, mv3 in itertools.product(n4, n4, n4):\n",
    "                reward = 0.0\n",
    "                if(mv1 + mv2 + mv3 != 0):\n",
    "                    continue\n",
    "                car1 = i + mv1\n",
    "                car2 = j + mv2\n",
    "                car3 = k + mv3\n",
    "                \n",
    "                reward-=getCost(mv1, mv2, mv3)\n",
    "                \n",
    "                #Request\n",
    "                for b1, b2, b3 in itertools.product(n1, n2, n3):\n",
    "                    pb1 = poisson(requestLambda[0], b1)\n",
    "                    pb2 = poisson(requestLambda[1], b2)\n",
    "                    pb3 = poisson(requestLambda[2], b3)\n",
    "                    \n",
    "                    car1-= b1\n",
    "                    car2-= b2\n",
    "                    car3-= b3\n",
    "                    if(not isValidState(car1, car2, car3)):\n",
    "                        continue\n",
    "                    reqReward = 10*(b1 + b2 + b3)\n",
    "                    \n",
    "                    p1 = pb1*pb2*pb3\n",
    "                    #Return \n",
    "                    for r1, r2, r3 in itertools.product(n1, n2, n3):\n",
    "                        pr1 = poisson(returnLambda[0], r1)\n",
    "                        pr2 = poisson(returnLambda[1], r2)\n",
    "                        pr3 = poisson(returnLambda[2], r3)\n",
    "                        \n",
    "                        car1+=r1\n",
    "                        car2+=r2\n",
    "                        car3+=r3\n",
    "                        \n",
    "                        car1, car2, car3 = normalize(car1, car2, car3)\n",
    "                        \n",
    "                        p2 = pr1*pr2*pr3\n",
    "                        reward+=p1*p2*(reqReward + gamma*V[car1, car2, car3])\n",
    "                        \n",
    "                maxReward = max(maxReward, reward)\n",
    "            V[i, j, k] = maxReward  \n",
    "        return V"
   ]
  },
  {
   "cell_type": "code",
   "execution_count": null,
   "metadata": {},
   "outputs": [],
   "source": [
    "Size = (20, 10, 10)\n",
    "Value = np.zeros(Size)\n",
    "Policy = np.zeros(Size)\n",
    "V = ValueIteration(Value, Policy)"
   ]
  },
  {
   "cell_type": "code",
   "execution_count": null,
   "metadata": {},
   "outputs": [],
   "source": [
    "np.arange(-5, 6)"
   ]
  },
  {
   "cell_type": "code",
   "execution_count": null,
   "metadata": {},
   "outputs": [],
   "source": []
  },
  {
   "cell_type": "code",
   "execution_count": null,
   "metadata": {},
   "outputs": [],
   "source": []
  },
  {
   "cell_type": "code",
   "execution_count": null,
   "metadata": {},
   "outputs": [],
   "source": []
  },
  {
   "cell_type": "code",
   "execution_count": null,
   "metadata": {},
   "outputs": [],
   "source": []
  },
  {
   "cell_type": "code",
   "execution_count": null,
   "metadata": {},
   "outputs": [],
   "source": []
  },
  {
   "cell_type": "code",
   "execution_count": null,
   "metadata": {},
   "outputs": [],
   "source": []
  },
  {
   "cell_type": "code",
   "execution_count": null,
   "metadata": {},
   "outputs": [],
   "source": []
  },
  {
   "cell_type": "code",
   "execution_count": null,
   "metadata": {},
   "outputs": [],
   "source": []
  }
 ],
 "metadata": {
  "kernelspec": {
   "display_name": "Python 3",
   "language": "python",
   "name": "python3"
  },
  "language_info": {
   "codemirror_mode": {
    "name": "ipython",
    "version": 3
   },
   "file_extension": ".py",
   "mimetype": "text/x-python",
   "name": "python",
   "nbconvert_exporter": "python",
   "pygments_lexer": "ipython3",
   "version": "3.7.0"
  }
 },
 "nbformat": 4,
 "nbformat_minor": 2
}
