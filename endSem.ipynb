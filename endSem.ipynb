{
 "cells": [
  {
   "cell_type": "markdown",
   "metadata": {},
   "source": [
    "#### Q.1"
   ]
  },
  {
   "cell_type": "code",
   "execution_count": 22,
   "metadata": {},
   "outputs": [
    {
     "name": "stdout",
     "output_type": "stream",
     "text": [
      "Enter n: 4\n",
      "Enter Red block Position(i j): 1 2\n",
      "[1, 2]\n",
      "Enter number of empty blocks: 2\n",
      "Enter 0empty block Position(i j): 3 2\n",
      "Enter 1empty block Position(i j): 2 3\n",
      "[[1. 1. 1. 1.]\n",
      " [1. 1. 2. 1.]\n",
      " [1. 1. 1. 0.]\n",
      " [1. 1. 0. 1.]]\n"
     ]
    }
   ],
   "source": [
    "from queue import PriorityQueue\n",
    "import numpy as np\n",
    "import copy\n",
    "\n",
    "class Coord:\n",
    "    def __init__(x, y):\n",
    "        row = x\n",
    "        col = y\n",
    "        \n",
    "#==========================Class to represent state of a configuration=================================\n",
    "class State:\n",
    "    def __init__(self, grid):\n",
    "        self.grid = grid\n",
    "\n",
    "    def __eq__(self, other):\n",
    "        return np.array_equal(self.grid, other.grid)\n",
    "\n",
    "    def __cmp__(self, other):\n",
    "        return np.array_equal(self.grid, other.grid)\n",
    "\n",
    "    # overriding hashing function\n",
    "    def __hash__(self) :\n",
    "        return hash(str(self.grid))\n",
    "    \n",
    "        \n",
    "class QueueNode:\n",
    "    def __init__(self, g, priority, parent, state, redBlock, action):\n",
    "        self.g = g\n",
    "        self.redBlock = redBlock\n",
    "        self.priority = priority\n",
    "        self.parent = parent\n",
    "        self.state = state\n",
    "        self.action = action\n",
    "            \n",
    "            #define compare function to compare the priority\n",
    "#     def __cmp__(self, other):\n",
    "#         return cmp(self.priority, other.priority)\n",
    "    \n",
    "    def __lt__(self, other):\n",
    "        return self.priority < other.priority\n",
    "    \n",
    "#     def __eq__(self, other):\n",
    "#         return (self.priority == other.priority)\n",
    "            \n",
    "n = int(input(\"Enter n: \"))\n",
    "grid = np.ones((n, n))\n",
    "redBlock = list(map(int, (input(\"Enter Red block Position(i j): \").split())))\n",
    "print(redBlock)\n",
    "###initialize red block\n",
    "grid[redBlock[0]][redBlock[1]] = 2\n",
    "\n",
    "numEmpty = int(input(\"Enter number of empty blocks: \"))\n",
    "for i in range(numEmpty):\n",
    "    b = list(map(int, (input(\"Enter \"+str(i) + \"empty block Position(i j): \").split())))\n",
    "    grid[b[0]][b[1]] = 0\n",
    "    \n",
    "print(grid)\n",
    "\n",
    "actionList = ['left', 'right', 'down', 'up']\n",
    "actionToInd = {'left':0, 'right':1, 'down':2, 'up': 3}\n",
    "actionToTuple = {'left':(0, -1), 'right':(0, 1), 'down':(1, 0), 'up': (-1, 0)}\n"
   ]
  },
  {
   "cell_type": "code",
   "execution_count": null,
   "metadata": {},
   "outputs": [],
   "source": [
    "import copy\n",
    "\n",
    "def heuristic(n, redBlock):\n",
    "#     print(n, redBlock)\n",
    "    return (np.abs(redBlock[0] - 0) + np.abs(redBlock[1] - (n - 1)))\n",
    "\n",
    "def reachedGoal(M):\n",
    "    if(M[0, -1] == 2):\n",
    "        return True\n",
    "\n",
    "    return False\n",
    "\n",
    "Q = PriorityQueue()\n",
    "h = heuristic(grid, redBlock)\n",
    "state = QueueNode(0, 0 + h, None, State(grid.copy()), tuple(redBlock), None)\n",
    "Q.put(state)\n",
    "explored = set()\n",
    "\n",
    "def isValid(i, j):\n",
    "    if(i > n-1 or i<0 or j > n - 1 or j<0):\n",
    "        return False\n",
    "    return True\n",
    "\n",
    "def getNextState(M, i, j, action, redBlock):\n",
    "    d = actionToTuple[action]\n",
    "    x, y = i+d[0], j + d[1]\n",
    "    if(not isValid(x, y)):\n",
    "        return None, None\n",
    "    \n",
    "    if(M[x, y] == 0):\n",
    "        return None, None\n",
    "    else:\n",
    "        if(redBlock == (x, y)):\n",
    "            redBlock = i, j\n",
    "        M[i, j], M[x, y] = M[x, y], M[i, j]\n",
    "        return M, redBlock\n",
    "\n",
    "destination = None\n",
    "while(not Q.empty()):\n",
    "    curr = Q.get()\n",
    "    grid1 = curr.state.grid.copy()\n",
    "    if reachedGoal(grid1):\n",
    "        print(\"Reached\")\n",
    "        destination = curr\n",
    "        break\n",
    "    for i in range(n):\n",
    "        for j in range(n):\n",
    "            if(grid1[i, j] == 0):\n",
    "                for action in actionList:\n",
    "                    M, redBlock = getNextState(grid1.copy(), i, j, action, curr.redBlock)\n",
    "                    if(M is None):\n",
    "                        continue\n",
    "                    if(not State(M) in explored):\n",
    "                        explored.add(State(M))\n",
    "                        h = heuristic(n, redBlock)\n",
    "#                         print(h, g)\n",
    "                        g = curr.g + 1\n",
    "                        state = QueueNode(g, g + h, copy.copy(curr), State(M), redBlock, action)\n",
    "                        Q.put(state)\n",
    "        \n",
    "#function to Print Path\n",
    "def printPath(curr) :\n",
    "    if(curr is None) : return 0\n",
    "    cost = printPath(curr.parent)\n",
    "    print(curr.action, \"\\n\", curr.state.grid)\n",
    "    return cost + 1\n",
    "\n",
    "print(\"The path is as follows : \\n\")\n",
    "cost = 0\n",
    "cost= printPath(curr)\n",
    "print(\"Cost = \", cost - 1)                     "
   ]
  },
  {
   "cell_type": "code",
   "execution_count": null,
   "metadata": {},
   "outputs": [],
   "source": [
    "tuple(redBlock)"
   ]
  },
  {
   "cell_type": "markdown",
   "metadata": {},
   "source": [
    "---"
   ]
  },
  {
   "cell_type": "markdown",
   "metadata": {},
   "source": [
    "#### Q2"
   ]
  },
  {
   "cell_type": "code",
   "execution_count": 15,
   "metadata": {},
   "outputs": [
    {
     "data": {
      "text/plain": [
       "-0.25564592964390764"
      ]
     },
     "execution_count": 15,
     "metadata": {},
     "output_type": "execute_result"
    }
   ],
   "source": [
    "np.random.randn()"
   ]
  },
  {
   "cell_type": "code",
   "execution_count": 36,
   "metadata": {},
   "outputs": [],
   "source": [
    "import time\n",
    "import numpy as np\n",
    "import copy\n",
    "\n",
    "def f1(X):\n",
    "    X = [x**2 for x in X]\n",
    "    return np.sum(X)\n",
    "\n",
    "def f2(X):\n",
    "    X = [np.floor(x) for x in X]\n",
    "    return np.sum(X)\n",
    "\n",
    "def f3(X):\n",
    "    X = [(i+1)*(x**4) for i, x in enumerate(X)]\n",
    "    return np.sum(X) + np.random.randn()\n",
    "\n",
    "population = []\n",
    "Min = -2.04\n",
    "Max = 2.04\n",
    "populationSize = 50\n",
    "epochs = 50\n",
    "mutProb = 0.5\n",
    "crossProb = 0.3\n",
    "poolsize = 100\n",
    "\n",
    "def value(x1):\n",
    "    return f1(x1) + f2(x1) + f3(x1)\n",
    "\n",
    "def fittest(x1, x2):\n",
    "    if(value(x1) < value(x2)):\n",
    "        return x1\n",
    "    return x2\n",
    "\n",
    "def fittestInPopulation():\n",
    "    best1 = population[0]\n",
    "    index = 0\n",
    "    for x in population:\n",
    "        if(value(x) > value(best1)):\n",
    "            best1 = x\n",
    "            index = x\n",
    "    \n",
    "    return best1, index\n",
    "\n",
    "#Take a num and returns new number after mutation\n",
    "def mutation(numList):\n",
    "    newList = []\n",
    "    for num in numList:\n",
    "        binary = bin(int(num*100)).replace('0b','')\n",
    "\n",
    "        if(num < 0):\n",
    "            r_ind = np.random.randint(1, len(binary))\n",
    "        else:\n",
    "            r_ind = np.random.randint(len(binary))\n",
    "\n",
    "        sList = list(binary)\n",
    "        sList[r_ind] = str(1 - int(sList[r_ind]))\n",
    "        binary = ''.join(sList)\n",
    "        x = round(int(binary, 2)/100, 2)\n",
    "        if(x < Min or x > Max):\n",
    "            x = num\n",
    "        if(np.random.rand() < 0.5):\n",
    "            x = -x\n",
    "        newList.append(x)\n",
    "    return newList\n",
    "\n",
    "#Cross Over\n",
    "def crossOver(num1List, num2List):\n",
    "    newList1 = []\n",
    "    newList2 = []\n",
    "    for (num1, num2) in zip(num1List, num2List):\n",
    "\n",
    "        binary1 = bin(int(num1*100)).replace('0b','')\n",
    "        binary2 = bin(int(num2*100)).replace('0b','')\n",
    "\n",
    "        r1_ind = np.random.randint(min(len(binary1), len(binary2)))\n",
    "\n",
    "        binary1_1 = binary1[:r1_ind] + binary2[r1_ind:]\n",
    "        binary1_2 = binary2[:r1_ind] + binary1[r1_ind:]\n",
    "\n",
    "        x1 = round(int(binary1_1, 2)/100, 2)\n",
    "        x2 = round(int(binary1_2, 2)/100, 2)\n",
    "\n",
    "        if(x1 < Min or x1 > Max or x2 < Min or x2 > Max):\n",
    "            x1, x2 =  num1, num2\n",
    "\n",
    "        if(np.random.rand() < 0.5):\n",
    "            x1 = -x1\n",
    "        if(np.random.rand() < 0.5):\n",
    "            x2 = -x2\n",
    "            \n",
    "        newList1.append(x1)\n",
    "        newList2.append(x2)\n",
    "\n",
    "    return newList1, newList2\n",
    "\n",
    "#Takes numList and return two best\n",
    "def selection(numList):\n",
    "    best1 = numList[0]\n",
    "    for num in numList:\n",
    "        if value(num)> value(best1):\n",
    "            best1 = num\n",
    "    \n",
    "    return best1\n",
    "\n",
    "#Decision making for crossover\n",
    "def doCrossOver():\n",
    "    return np.random.rand() > crossProb\n",
    "\n",
    "#Decision making for mutation\n",
    "def doMutation():\n",
    "    return np.random.rand() > mutProb\n",
    "\n",
    "def v(num1List, num2List):\n",
    "#     print(\"s1 = \", s1, s2)\n",
    "    if(doCrossOver()): \n",
    "        num1List, num2List = crossOver(num1List, num2List)\n",
    "    \n",
    "    offSpringList1 = []\n",
    "    offSpringList2 = []\n",
    "    for i in range(poolsize):\n",
    "        #Pool1\n",
    "        tempList1 = copy.copy(num1List)\n",
    "        tempList2 = copy.copy(num2List)\n",
    "\n",
    "        if(doMutation()):\n",
    "            tempList1 = mutation(tempList1)\n",
    "            offSpringList1.append(tempList1)\n",
    "\n",
    "        #Pool2\n",
    "        if(doMutation()):\n",
    "            tempList2 = mutation(tempList2)\n",
    "            offSpringList2.append(tempList2)\n",
    "\n",
    "    #Selection\n",
    "    offSpringList1.append(num1List)\n",
    "    offSpringList1.append(num2List)\n",
    "    offSpringList1+=offSpringList2   #Pool\n",
    "    best1 = selection(offSpringList1)\n",
    "        \n",
    "    return best1\n",
    "\n",
    "def getRandomNumber():\n",
    "    x = np.random.rand()\n",
    "    return round((4.08*x - 2.04), 2)\n",
    "\n",
    "def initializePopulation():\n",
    "    for i in range(populationSize):\n",
    "        population.append([getRandomNumber() for _ in range(5)])\n",
    "\n",
    "def geneticAlgorithm():\n",
    "    global population\n",
    "    initializePopulation()\n",
    "    res, index = fittestInPopulation()\n",
    "    bestVal = value(res)\n",
    "    iter1 = 0\n",
    "    while(iter1 < epochs):\n",
    "        newPopulation = []\n",
    "        for i in range(populationSize): \n",
    "            np.random.seed(np.random.randint(int(time.time())))\n",
    "            parent1 = np.random.randint(populationSize)\n",
    "            parent2 = np.random.randint(populationSize)\n",
    "            bestOffSpring = v(population[parent1], population[parent2])\n",
    "            if(value(bestOffSpring) > bestVal):\n",
    "                bestVal = value(bestOffSpring)\n",
    "                res = bestOffSpring\n",
    "            newPopulation.append(bestOffSpring)\n",
    "            \n",
    "        iter1+=1\n",
    "        if(iter1%10 == 0):\n",
    "            print(\"Iter: \", iter1)\n",
    "        population = newPopulation\n",
    "\n",
    "    print(\"Found Goal in iteration = \" , iter1, \"Goal = \", res,  \"Value = \", bestVal)"
   ]
  },
  {
   "cell_type": "code",
   "execution_count": 37,
   "metadata": {},
   "outputs": [
    {
     "name": "stdout",
     "output_type": "stream",
     "text": [
      "Iter:  10\n",
      "Iter:  20\n",
      "Iter:  30\n",
      "Iter:  40\n",
      "Iter:  50\n",
      "Found Goal in iteration =  50 Goal =  [2.04, 2.04, 2.04, 2.04, 2.04] Value =  291.8960475137854\n"
     ]
    }
   ],
   "source": [
    "geneticAlgorithm()"
   ]
  },
  {
   "cell_type": "code",
   "execution_count": 242,
   "metadata": {},
   "outputs": [
    {
     "data": {
      "text/plain": [
       "21"
      ]
     },
     "execution_count": 242,
     "metadata": {},
     "output_type": "execute_result"
    }
   ],
   "source": [
    "int('010101',2)"
   ]
  },
  {
   "cell_type": "markdown",
   "metadata": {},
   "source": [
    "---"
   ]
  },
  {
   "cell_type": "markdown",
   "metadata": {},
   "source": [
    "#### Q3"
   ]
  },
  {
   "cell_type": "code",
   "execution_count": 87,
   "metadata": {},
   "outputs": [],
   "source": [
    "import itertools\n",
    "\n",
    "def poisson(lambda1, n):\n",
    "    return (np.power(lambda1, n)/np.math.factorial(n))*(np.exp(-lambda1))\n",
    "\n",
    "class State:\n",
    "    def __init__(self, car1, car2, car3):\n",
    "        self.car1 = car1\n",
    "        self.car2 = car2\n",
    "        self.car3 = car3\n",
    "        \n",
    "def normInfinity(currValue, optimalValue):\n",
    "    maxDiff = 0\n",
    "    for i in range(currValue.shape[0]):\n",
    "        for j in range(currValue.shape[1]):\n",
    "            maxDiff = max(maxDiff, abs(currValue[i, j] - optimalValue[i, j]))\n",
    "    return maxDiff\n",
    "        \n",
    "\n",
    "\n",
    "requestLambda = [3, 2, 2]\n",
    "returnLambda = [3, 1, 1]\n",
    "\n",
    "gamma = 0.9\n",
    "numIter = 50\n",
    "tol = 0.1\n",
    "Size = (20, 10, 10)\n",
    "n1 = np.arange(20)\n",
    "n2 = np.arange(10)\n",
    "n3 = np.arange(10)\n",
    "\n",
    "n4 = np.arange(-5, 5)\n",
    "\n",
    "def isValidState(car1, car2, car3):\n",
    "     return car1 >= 0 and car2 >=0 and car3 >=0\n",
    "    \n",
    "def normalize(car1, car2, car3):\n",
    "    car1 = min(car1, 19)\n",
    "    car2 = min(car2, 9)\n",
    "    car3 = min(car3, 9)\n",
    "    \n",
    "    return car1, car2, car3\n",
    "\n",
    "def getCost(mv1, mv2, mv3):\n",
    "    cost = np.abs(mv1)*2\n",
    "    return cost\n",
    "\n",
    "def ValueIteration(V, Policy):\n",
    "    for iter1 in range(numIter):\n",
    "        print(iter1)\n",
    "        #State value\n",
    "        for i, j, k in itertools.product(n1, n2, n3):\n",
    "            print(i, j, k)\n",
    "            #Action\n",
    "            maxReward = -10000\n",
    "            for mv1, mv2, mv3 in itertools.product(n4, n4, n4):\n",
    "                reward = 0.0\n",
    "                if(mv1 + mv2 + mv3 != 0):\n",
    "                    continue\n",
    "                car1 = i + mv1\n",
    "                car2 = j + mv2\n",
    "                car3 = k + mv3\n",
    "                \n",
    "                reward-=getCost(mv1, mv2, mv3)\n",
    "                \n",
    "                #Request\n",
    "                for b1, b2, b3 in itertools.product(n1, n2, n3):\n",
    "                    pb1 = poisson(requestLambda[0], b1)\n",
    "                    pb2 = poisson(requestLambda[1], b2)\n",
    "                    pb3 = poisson(requestLambda[2], b3)\n",
    "                    \n",
    "                    car1-= b1\n",
    "                    car2-= b2\n",
    "                    car3-= b3\n",
    "                    if(not isValidState(car1, car2, car3)):\n",
    "                        continue\n",
    "                    reqReward = 10*(b1 + b2 + b3)\n",
    "                    \n",
    "                    p1 = pb1*pb2*pb3\n",
    "                    #Return \n",
    "                    for r1, r2, r3 in itertools.product(n1, n2, n3):\n",
    "                        pr1 = poisson(returnLambda[0], r1)\n",
    "                        pr2 = poisson(returnLambda[1], r2)\n",
    "                        pr3 = poisson(returnLambda[2], r3)\n",
    "                        \n",
    "                        car1+=r1\n",
    "                        car2+=r2\n",
    "                        car3+=r3\n",
    "                        \n",
    "                        car1, car2, car3 = normalize(car1, car2, car3)\n",
    "                        \n",
    "                        p2 = pr1*pr2*pr3\n",
    "                        reward+=p1*p2*(reqReward + gamma*V[car1, car2, car3])\n",
    "                        \n",
    "                maxReward = max(maxReward, reward)\n",
    "            V[i, j, k] = maxReward  \n",
    "        return V"
   ]
  },
  {
   "cell_type": "code",
   "execution_count": 82,
   "metadata": {},
   "outputs": [
    {
     "name": "stdout",
     "output_type": "stream",
     "text": [
      "0\n",
      "0 0 0\n"
     ]
    },
    {
     "ename": "KeyboardInterrupt",
     "evalue": "",
     "output_type": "error",
     "traceback": [
      "\u001b[0;31m---------------------------------------------------------------------------\u001b[0m",
      "\u001b[0;31mKeyboardInterrupt\u001b[0m                         Traceback (most recent call last)",
      "\u001b[0;32m<ipython-input-82-7774d4b6376e>\u001b[0m in \u001b[0;36m<module>\u001b[0;34m()\u001b[0m\n\u001b[1;32m      2\u001b[0m \u001b[0mValue\u001b[0m \u001b[0;34m=\u001b[0m \u001b[0mnp\u001b[0m\u001b[0;34m.\u001b[0m\u001b[0mzeros\u001b[0m\u001b[0;34m(\u001b[0m\u001b[0mSize\u001b[0m\u001b[0;34m)\u001b[0m\u001b[0;34m\u001b[0m\u001b[0m\n\u001b[1;32m      3\u001b[0m \u001b[0mPolicy\u001b[0m \u001b[0;34m=\u001b[0m \u001b[0mnp\u001b[0m\u001b[0;34m.\u001b[0m\u001b[0mzeros\u001b[0m\u001b[0;34m(\u001b[0m\u001b[0mSize\u001b[0m\u001b[0;34m)\u001b[0m\u001b[0;34m\u001b[0m\u001b[0m\n\u001b[0;32m----> 4\u001b[0;31m \u001b[0mV\u001b[0m \u001b[0;34m=\u001b[0m \u001b[0mValueIteration\u001b[0m\u001b[0;34m(\u001b[0m\u001b[0mValue\u001b[0m\u001b[0;34m,\u001b[0m \u001b[0mPolicy\u001b[0m\u001b[0;34m)\u001b[0m\u001b[0;34m\u001b[0m\u001b[0m\n\u001b[0m",
      "\u001b[0;32m<ipython-input-81-755eb5f7c561>\u001b[0m in \u001b[0;36mValueIteration\u001b[0;34m(V, Policy)\u001b[0m\n\u001b[1;32m     88\u001b[0m                         \u001b[0mcar3\u001b[0m\u001b[0;34m+=\u001b[0m\u001b[0mr3\u001b[0m\u001b[0;34m\u001b[0m\u001b[0m\n\u001b[1;32m     89\u001b[0m \u001b[0;34m\u001b[0m\u001b[0m\n\u001b[0;32m---> 90\u001b[0;31m                         \u001b[0mcar1\u001b[0m\u001b[0;34m,\u001b[0m \u001b[0mcar2\u001b[0m\u001b[0;34m,\u001b[0m \u001b[0mcar3\u001b[0m \u001b[0;34m=\u001b[0m \u001b[0mnormalize\u001b[0m\u001b[0;34m(\u001b[0m\u001b[0mcar1\u001b[0m\u001b[0;34m,\u001b[0m \u001b[0mcar2\u001b[0m\u001b[0;34m,\u001b[0m \u001b[0mcar3\u001b[0m\u001b[0;34m)\u001b[0m\u001b[0;34m\u001b[0m\u001b[0m\n\u001b[0m\u001b[1;32m     91\u001b[0m \u001b[0;34m\u001b[0m\u001b[0m\n\u001b[1;32m     92\u001b[0m                         \u001b[0mp2\u001b[0m \u001b[0;34m=\u001b[0m \u001b[0mpr1\u001b[0m\u001b[0;34m*\u001b[0m\u001b[0mpr2\u001b[0m\u001b[0;34m*\u001b[0m\u001b[0mpr3\u001b[0m\u001b[0;34m\u001b[0m\u001b[0m\n",
      "\u001b[0;32m<ipython-input-81-755eb5f7c561>\u001b[0m in \u001b[0;36mnormalize\u001b[0;34m(car1, car2, car3)\u001b[0m\n\u001b[1;32m     38\u001b[0m     \u001b[0mcar1\u001b[0m \u001b[0;34m=\u001b[0m \u001b[0mmin\u001b[0m\u001b[0;34m(\u001b[0m\u001b[0mcar1\u001b[0m\u001b[0;34m,\u001b[0m \u001b[0;36m19\u001b[0m\u001b[0;34m)\u001b[0m\u001b[0;34m\u001b[0m\u001b[0m\n\u001b[1;32m     39\u001b[0m     \u001b[0mcar2\u001b[0m \u001b[0;34m=\u001b[0m \u001b[0mmin\u001b[0m\u001b[0;34m(\u001b[0m\u001b[0mcar2\u001b[0m\u001b[0;34m,\u001b[0m \u001b[0;36m9\u001b[0m\u001b[0;34m)\u001b[0m\u001b[0;34m\u001b[0m\u001b[0m\n\u001b[0;32m---> 40\u001b[0;31m     \u001b[0mcar3\u001b[0m \u001b[0;34m=\u001b[0m \u001b[0mmin\u001b[0m\u001b[0;34m(\u001b[0m\u001b[0mcar3\u001b[0m\u001b[0;34m,\u001b[0m \u001b[0;36m9\u001b[0m\u001b[0;34m)\u001b[0m\u001b[0;34m\u001b[0m\u001b[0m\n\u001b[0m\u001b[1;32m     41\u001b[0m \u001b[0;34m\u001b[0m\u001b[0m\n\u001b[1;32m     42\u001b[0m     \u001b[0;32mreturn\u001b[0m \u001b[0mcar1\u001b[0m\u001b[0;34m,\u001b[0m \u001b[0mcar2\u001b[0m\u001b[0;34m,\u001b[0m \u001b[0mcar3\u001b[0m\u001b[0;34m\u001b[0m\u001b[0m\n",
      "\u001b[0;31mKeyboardInterrupt\u001b[0m: "
     ]
    }
   ],
   "source": [
    "Size = (20, 10, 10)\n",
    "Value = np.zeros(Size)\n",
    "Policy = np.zeros(Size)\n",
    "V = ValueIteration(Value, Policy)"
   ]
  },
  {
   "cell_type": "code",
   "execution_count": null,
   "metadata": {},
   "outputs": [],
   "source": [
    "np.arange(-5, 6)"
   ]
  },
  {
   "cell_type": "code",
   "execution_count": 83,
   "metadata": {},
   "outputs": [
    {
     "ename": "KeyboardInterrupt",
     "evalue": "",
     "output_type": "error",
     "traceback": [
      "\u001b[0;31m---------------------------------------------------------------------------\u001b[0m",
      "\u001b[0;31mKeyboardInterrupt\u001b[0m                         Traceback (most recent call last)",
      "\u001b[0;32m<ipython-input-83-6e4179e3369a>\u001b[0m in \u001b[0;36m<module>\u001b[0;34m()\u001b[0m\n\u001b[1;32m      1\u001b[0m \u001b[0ma\u001b[0m \u001b[0;34m=\u001b[0m \u001b[0mtime\u001b[0m\u001b[0;34m.\u001b[0m\u001b[0mtime\u001b[0m\u001b[0;34m(\u001b[0m\u001b[0;34m)\u001b[0m\u001b[0;34m\u001b[0m\u001b[0m\n\u001b[0;32m----> 2\u001b[0;31m \u001b[0;32mfor\u001b[0m \u001b[0m_\u001b[0m \u001b[0;32min\u001b[0m \u001b[0mrange\u001b[0m\u001b[0;34m(\u001b[0m\u001b[0;36m280000000\u001b[0m\u001b[0;34m)\u001b[0m\u001b[0;34m:\u001b[0m\u001b[0;34m\u001b[0m\u001b[0m\n\u001b[0m\u001b[1;32m      3\u001b[0m     \u001b[0mj\u001b[0m \u001b[0;34m=\u001b[0m \u001b[0;36m3\u001b[0m\u001b[0;34m\u001b[0m\u001b[0m\n\u001b[1;32m      4\u001b[0m \u001b[0mprint\u001b[0m\u001b[0;34m(\u001b[0m\u001b[0mtime\u001b[0m\u001b[0;34m.\u001b[0m\u001b[0mtime\u001b[0m\u001b[0;34m(\u001b[0m\u001b[0;34m)\u001b[0m  \u001b[0;34m-\u001b[0m \u001b[0ma\u001b[0m\u001b[0;34m)\u001b[0m\u001b[0;34m\u001b[0m\u001b[0m\n",
      "\u001b[0;31mKeyboardInterrupt\u001b[0m: "
     ]
    }
   ],
   "source": [
    "a = time.time()\n",
    "for _ in range(280000000):\n",
    "    j = 3\n",
    "print(time.time()  - a)"
   ]
  },
  {
   "cell_type": "code",
   "execution_count": null,
   "metadata": {},
   "outputs": [],
   "source": [
    "a = np.ones((19))\n",
    "c = np.ones((19))*2"
   ]
  },
  {
   "cell_type": "code",
   "execution_count": null,
   "metadata": {},
   "outputs": [],
   "source": [
    "b = time.time()\n",
    "np.sum(np.multiply(a,b))\n",
    "print(time.time() - b)"
   ]
  },
  {
   "cell_type": "code",
   "execution_count": 58,
   "metadata": {},
   "outputs": [
    {
     "data": {
      "text/plain": [
       "array([1., 1., 1., 1., 1.])"
      ]
     },
     "execution_count": 58,
     "metadata": {},
     "output_type": "execute_result"
    }
   ],
   "source": [
    "a[:5]"
   ]
  },
  {
   "cell_type": "code",
   "execution_count": 52,
   "metadata": {},
   "outputs": [
    {
     "data": {
      "text/plain": [
       "array([[2., 2., 2., 2., 2., 2., 2., 2., 2., 2., 2., 2., 2., 2., 2., 2.,\n",
       "        2., 2., 2.],\n",
       "       [2., 2., 2., 2., 2., 2., 2., 2., 2., 2., 2., 2., 2., 2., 2., 2.,\n",
       "        2., 2., 2.]])"
      ]
     },
     "execution_count": 52,
     "metadata": {},
     "output_type": "execute_result"
    }
   ],
   "source": [
    "c"
   ]
  },
  {
   "cell_type": "code",
   "execution_count": 53,
   "metadata": {},
   "outputs": [
    {
     "data": {
      "text/plain": [
       "array([[2., 2., 2., 2., 2., 2., 2., 2., 2., 2., 2., 2., 2., 2., 2., 2.,\n",
       "        2., 2., 2.],\n",
       "       [2., 2., 2., 2., 2., 2., 2., 2., 2., 2., 2., 2., 2., 2., 2., 2.,\n",
       "        2., 2., 2.]])"
      ]
     },
     "execution_count": 53,
     "metadata": {},
     "output_type": "execute_result"
    }
   ],
   "source": [
    "a*c"
   ]
  },
  {
   "cell_type": "code",
   "execution_count": 84,
   "metadata": {},
   "outputs": [],
   "source": [
    "JointProbLocation1 = np.zeros((20, 20, 20))\n",
    "JointProbLocation2 = np.zeros((10, 10, 10))\n",
    "JointProbLocation3 = np.zeros((10, 10, 10))\n",
    "\n",
    "ProbRequestLocation1 = np.asarray([poisson(requestLambda[0], i) for i in range(20)])\n",
    "ProbRequestLocation2 = np.asarray([poisson(requestLambda[1], i) for i in range(10)])\n",
    "ProbRequestLocation3 = np.asarray([poisson(requestLambda[2], i) for i in range(10)])\n",
    "\n",
    "ProbReturnLocation1 = np.asarray([poisson(returnLambda[0], i) for i in range(20)])\n",
    "ProbReturnLocation2 = np.asarray([poisson(returnLambda[1], i) for i in range(10)])\n",
    "ProbReturnLocation3 = np.asarray([poisson(returnLambda[2], i) for i in range(10)])"
   ]
  },
  {
   "cell_type": "code",
   "execution_count": 85,
   "metadata": {},
   "outputs": [
    {
     "data": {
      "text/plain": [
       "(array([ 0,  1,  2,  3,  4,  5,  6,  7,  8,  9, 10, 11, 12, 13, 14, 15, 16,\n",
       "        17, 18, 19]),\n",
       " array([0, 1, 2, 3, 4, 5, 6, 7, 8, 9]),\n",
       " array([0, 1, 2, 3, 4, 5, 6, 7, 8, 9]))"
      ]
     },
     "execution_count": 85,
     "metadata": {},
     "output_type": "execute_result"
    }
   ],
   "source": [
    "n1, n2, n3"
   ]
  },
  {
   "cell_type": "code",
   "execution_count": 99,
   "metadata": {},
   "outputs": [],
   "source": [
    "for (req, retStart, retEnd) in itertools.product(n1, n1, n1):  #start, End inclusive\n",
    "    if(req + 1 != retEnd - retStart + 1):\n",
    "        continue\n",
    "    JointProbLocation1[req, retStart, retEnd] = np.sum(\n",
    "        ProbRequestLocation1[:req+1]*ProbReturnLocation1[retStart:retEnd+1])\n",
    "    \n",
    "for (req, retStart, retEnd) in itertools.product(n2, n2, n2):\n",
    "    if(req + 1 != retEnd - retStart + 1):\n",
    "        continue\n",
    "    \n",
    "    JointProbLocation2[req, retStart, retEnd] = np.sum(\n",
    "        ProbRequestLocation2[:req+1]*ProbReturnLocation2[retStart:retEnd+1])\n",
    "    \n",
    "for (req, retStart, retEnd) in itertools.product(n3, n3, n3):\n",
    "    if(req + 1 != retEnd - retStart + 1):\n",
    "        continue\n",
    "    \n",
    "    JointProbLocation3[req, retStart, retEnd] = np.sum(\n",
    "        ProbRequestLocation3[:req+1]*ProbReturnLocation3[retStart:retEnd+1])"
   ]
  },
  {
   "cell_type": "code",
   "execution_count": 102,
   "metadata": {},
   "outputs": [
    {
     "data": {
      "text/plain": [
       "array([[[2.47875218e-03, 0.00000000e+00, 0.00000000e+00, ...,\n",
       "         0.00000000e+00, 0.00000000e+00, 0.00000000e+00],\n",
       "        [0.00000000e+00, 7.43625653e-03, 0.00000000e+00, ...,\n",
       "         0.00000000e+00, 0.00000000e+00, 0.00000000e+00],\n",
       "        [0.00000000e+00, 0.00000000e+00, 1.11543848e-02, ...,\n",
       "         0.00000000e+00, 0.00000000e+00, 0.00000000e+00],\n",
       "        ...,\n",
       "        [0.00000000e+00, 0.00000000e+00, 0.00000000e+00, ...,\n",
       "         8.99965629e-10, 0.00000000e+00, 0.00000000e+00],\n",
       "        [0.00000000e+00, 0.00000000e+00, 0.00000000e+00, ...,\n",
       "         0.00000000e+00, 1.49994272e-10, 0.00000000e+00],\n",
       "        [0.00000000e+00, 0.00000000e+00, 0.00000000e+00, ...,\n",
       "         0.00000000e+00, 0.00000000e+00, 2.36833060e-11]],\n",
       "\n",
       "       [[0.00000000e+00, 2.47875218e-02, 0.00000000e+00, ...,\n",
       "         0.00000000e+00, 0.00000000e+00, 0.00000000e+00],\n",
       "        [0.00000000e+00, 0.00000000e+00, 4.08994109e-02, ...,\n",
       "         0.00000000e+00, 0.00000000e+00, 0.00000000e+00],\n",
       "        [0.00000000e+00, 0.00000000e+00, 0.00000000e+00, ...,\n",
       "         0.00000000e+00, 0.00000000e+00, 0.00000000e+00],\n",
       "        ...,\n",
       "        [0.00000000e+00, 0.00000000e+00, 0.00000000e+00, ...,\n",
       "         0.00000000e+00, 1.34994844e-09, 0.00000000e+00],\n",
       "        [0.00000000e+00, 0.00000000e+00, 0.00000000e+00, ...,\n",
       "         0.00000000e+00, 0.00000000e+00, 2.21044190e-10],\n",
       "        [0.00000000e+00, 0.00000000e+00, 0.00000000e+00, ...,\n",
       "         0.00000000e+00, 0.00000000e+00, 0.00000000e+00]],\n",
       "\n",
       "       [[0.00000000e+00, 0.00000000e+00, 7.49822533e-02, ...,\n",
       "         0.00000000e+00, 0.00000000e+00, 0.00000000e+00],\n",
       "        [0.00000000e+00, 0.00000000e+00, 0.00000000e+00, ...,\n",
       "         0.00000000e+00, 0.00000000e+00, 0.00000000e+00],\n",
       "        [0.00000000e+00, 0.00000000e+00, 0.00000000e+00, ...,\n",
       "         0.00000000e+00, 0.00000000e+00, 0.00000000e+00],\n",
       "        ...,\n",
       "        [0.00000000e+00, 0.00000000e+00, 0.00000000e+00, ...,\n",
       "         0.00000000e+00, 0.00000000e+00, 1.45652332e-09],\n",
       "        [0.00000000e+00, 0.00000000e+00, 0.00000000e+00, ...,\n",
       "         0.00000000e+00, 0.00000000e+00, 0.00000000e+00],\n",
       "        [0.00000000e+00, 0.00000000e+00, 0.00000000e+00, ...,\n",
       "         0.00000000e+00, 0.00000000e+00, 0.00000000e+00]],\n",
       "\n",
       "       ...,\n",
       "\n",
       "       [[0.00000000e+00, 0.00000000e+00, 0.00000000e+00, ...,\n",
       "         1.66657433e-01, 0.00000000e+00, 0.00000000e+00],\n",
       "        [0.00000000e+00, 0.00000000e+00, 0.00000000e+00, ...,\n",
       "         0.00000000e+00, 1.52051459e-01, 0.00000000e+00],\n",
       "        [0.00000000e+00, 0.00000000e+00, 0.00000000e+00, ...,\n",
       "         0.00000000e+00, 0.00000000e+00, 1.15973613e-01],\n",
       "        ...,\n",
       "        [0.00000000e+00, 0.00000000e+00, 0.00000000e+00, ...,\n",
       "         0.00000000e+00, 0.00000000e+00, 0.00000000e+00],\n",
       "        [0.00000000e+00, 0.00000000e+00, 0.00000000e+00, ...,\n",
       "         0.00000000e+00, 0.00000000e+00, 0.00000000e+00],\n",
       "        [0.00000000e+00, 0.00000000e+00, 0.00000000e+00, ...,\n",
       "         0.00000000e+00, 0.00000000e+00, 0.00000000e+00]],\n",
       "\n",
       "       [[0.00000000e+00, 0.00000000e+00, 0.00000000e+00, ...,\n",
       "         0.00000000e+00, 1.66657433e-01, 0.00000000e+00],\n",
       "        [0.00000000e+00, 0.00000000e+00, 0.00000000e+00, ...,\n",
       "         0.00000000e+00, 0.00000000e+00, 1.52051459e-01],\n",
       "        [0.00000000e+00, 0.00000000e+00, 0.00000000e+00, ...,\n",
       "         0.00000000e+00, 0.00000000e+00, 0.00000000e+00],\n",
       "        ...,\n",
       "        [0.00000000e+00, 0.00000000e+00, 0.00000000e+00, ...,\n",
       "         0.00000000e+00, 0.00000000e+00, 0.00000000e+00],\n",
       "        [0.00000000e+00, 0.00000000e+00, 0.00000000e+00, ...,\n",
       "         0.00000000e+00, 0.00000000e+00, 0.00000000e+00],\n",
       "        [0.00000000e+00, 0.00000000e+00, 0.00000000e+00, ...,\n",
       "         0.00000000e+00, 0.00000000e+00, 0.00000000e+00]],\n",
       "\n",
       "       [[0.00000000e+00, 0.00000000e+00, 0.00000000e+00, ...,\n",
       "         0.00000000e+00, 0.00000000e+00, 1.66657433e-01],\n",
       "        [0.00000000e+00, 0.00000000e+00, 0.00000000e+00, ...,\n",
       "         0.00000000e+00, 0.00000000e+00, 0.00000000e+00],\n",
       "        [0.00000000e+00, 0.00000000e+00, 0.00000000e+00, ...,\n",
       "         0.00000000e+00, 0.00000000e+00, 0.00000000e+00],\n",
       "        ...,\n",
       "        [0.00000000e+00, 0.00000000e+00, 0.00000000e+00, ...,\n",
       "         0.00000000e+00, 0.00000000e+00, 0.00000000e+00],\n",
       "        [0.00000000e+00, 0.00000000e+00, 0.00000000e+00, ...,\n",
       "         0.00000000e+00, 0.00000000e+00, 0.00000000e+00],\n",
       "        [0.00000000e+00, 0.00000000e+00, 0.00000000e+00, ...,\n",
       "         0.00000000e+00, 0.00000000e+00, 0.00000000e+00]]])"
      ]
     },
     "execution_count": 102,
     "metadata": {},
     "output_type": "execute_result"
    }
   ],
   "source": [
    "(JointProbLocation1)"
   ]
  },
  {
   "cell_type": "code",
   "execution_count": 93,
   "metadata": {},
   "outputs": [
    {
     "name": "stdout",
     "output_type": "stream",
     "text": [
      "[4.97870684e-02 1.49361205e-01 2.24041808e-01 2.24041808e-01\n",
      " 1.68031356e-01 1.00818813e-01 5.04094067e-02 2.16040315e-02\n",
      " 8.10151179e-03 2.70050393e-03 8.10151179e-04 2.20950322e-04\n",
      " 5.52375804e-05 1.27471339e-05 2.73152870e-06 5.46305740e-07\n",
      " 1.02432326e-07 1.80762929e-08 3.01271548e-09 4.75691918e-10]\n",
      "[4.97870684e-02 1.49361205e-01 2.24041808e-01 2.24041808e-01\n",
      " 1.68031356e-01 1.00818813e-01 5.04094067e-02 2.16040315e-02\n",
      " 8.10151179e-03 2.70050393e-03 8.10151179e-04 2.20950322e-04\n",
      " 5.52375804e-05 1.27471339e-05 2.73152870e-06 5.46305740e-07\n",
      " 1.02432326e-07 1.80762929e-08 3.01271548e-09 4.75691918e-10]\n",
      "[2.47875218e-03 2.23087696e-02 5.01947316e-02 5.01947316e-02\n",
      " 2.82345365e-02 1.01644331e-02 2.54110829e-03 4.66734175e-04\n",
      " 6.56344934e-05 7.29272148e-06 6.56344934e-07 4.88190446e-08\n",
      " 3.05119029e-09 1.62489424e-10 7.46124905e-12 2.98449962e-13\n",
      " 1.04923815e-14 3.26752364e-16 9.07645456e-18 2.26282801e-19]\n"
     ]
    }
   ],
   "source": [
    "print(ProbRequestLocation1)\n",
    "print(ProbReturnLocation1)\n",
    "print(ProbRequestLocation1*ProbReturnLocation1)"
   ]
  },
  {
   "cell_type": "code",
   "execution_count": 90,
   "metadata": {},
   "outputs": [
    {
     "data": {
      "text/plain": [
       "0.16665743263981658"
      ]
     },
     "execution_count": 90,
     "metadata": {},
     "output_type": "execute_result"
    }
   ],
   "source": [
    "np.sum(ProbRequestLocation1*ProbReturnLocation1)"
   ]
  },
  {
   "cell_type": "code",
   "execution_count": 92,
   "metadata": {},
   "outputs": [
    {
     "data": {
      "text/plain": [
       "0.9999999999168558"
      ]
     },
     "execution_count": 92,
     "metadata": {},
     "output_type": "execute_result"
    }
   ],
   "source": [
    "np.sum(ProbRequestLocation1)\n",
    "np.sum(ProbReturnLocation1)"
   ]
  }
 ],
 "metadata": {
  "kernelspec": {
   "display_name": "Python 3",
   "language": "python",
   "name": "python3"
  },
  "language_info": {
   "codemirror_mode": {
    "name": "ipython",
    "version": 3
   },
   "file_extension": ".py",
   "mimetype": "text/x-python",
   "name": "python",
   "nbconvert_exporter": "python",
   "pygments_lexer": "ipython3",
   "version": "3.7.0"
  }
 },
 "nbformat": 4,
 "nbformat_minor": 2
}
